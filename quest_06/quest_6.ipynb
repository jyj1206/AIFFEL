{
 "cells": [
  {
   "cell_type": "markdown",
   "id": "7f3caed2",
   "metadata": {},
   "source": [
    "# 프로젝트 : 모든 장르 간 편향성 측정해 보기"
   ]
  },
  {
   "cell_type": "markdown",
   "id": "b83f6b13",
   "metadata": {},
   "source": [
    "## 라이브러리 불러오기"
   ]
  },
  {
   "cell_type": "code",
   "execution_count": 1,
   "id": "3f0e280a",
   "metadata": {},
   "outputs": [],
   "source": [
    "import numpy as np\n",
    "from numpy import dot\n",
    "from numpy.linalg import norm\n",
    "\n",
    "import os\n",
    "\n",
    "import matplotlib.pyplot as plt\n",
    "from konlpy.tag import Okt\n",
    "from gensim.models import Word2Vec\n",
    "from sklearn.feature_extraction.text import TfidfVectorizer\n",
    "\n",
    "import seaborn as sns; "
   ]
  },
  {
   "cell_type": "markdown",
   "id": "7ad0b1ff",
   "metadata": {},
   "source": [
    "## 형태소 분석기를 이용하여 품사가 명사인 경우 해당 단어를 추출하기"
   ]
  },
  {
   "cell_type": "code",
   "execution_count": 2,
   "id": "13c368e5",
   "metadata": {},
   "outputs": [
    {
     "name": "stdout",
     "output_type": "stream",
     "text": [
      "사운드 엔지니어 상우(유지태 분)는 치매에 걸린 할머니(백성희 분)와\n",
      " 젊은 시절 상처한 한 아버지(박인환 분), 고모(신신애 분)와 함께 살고 있다.\n",
      " 어느 겨울 그는 지방 방송국 라디오 PD 은수(이영애 분)를 만난다.\n",
      " 자연의 소리를 채집해 틀어주는 라디오 프로그램을 준비하는 은수는 상우와 녹음 여행을 떠난다.\n",
      " 자연스레 가까워지는 두 사람은 어느 날, 은수의 아파트에서 밤을 보낸다.\n",
      " 너무 쉽게 사랑에 빠진 두 사람... 상우는 주체할 수 없을 정도로 그녀에게 빨려든다.\n",
      " 그러나 겨울에 만난 두 사람의 관계는 봄을 지나 여름을 맞이하면서 삐걱거린다.\n",
      " 이혼 경험이 있는 은수는 상우에게 결혼할 생각이 없다며 부담스러운 표정을 내비친다.\n",
      " \"어떻게 사랑이 변하니?...\"라고 묻는 상우에게 은수는 그저 \"헤어져\" 라고 단호하게 말한다.\n",
      " 영원히 변할 것 같지 않던 사랑이 변하고, 그 사실을 받아들이지 못하는 상우는 어찌 할 바를 모른다.\n",
      " 은수를 잊지 못하는 상우는 미련과 집착의 감정을 이기지 못하고 서울과 강릉을 오간다.\n",
      "유사 이래 연령, 성별, 빈부의 차이와 정치적인 입장을 불문하고 일거에 국민을 통합해 온 '애국심'이라는 성역에 일침을 가하는 다큐멘터리. 재작년 전국 민족민주 유가족협의회의 장기농성을 다룬 인상적인 다큐멘터리 <민들레>를 만들었던 독립영화집단 '빨간 눈사람'이 우리 사회 구석구석을 발빠르게 돌아다니며 애국심과 민족주의가 강요되는 현장을 발굴하여 카메라에 담았다. 박홍 서강대 명예총장, 이도형 '한국논단' 발행인, 축구해설자 신문선, 홍세화, 박노해 등 사회 각계의 '스타'들이 등장해 저마다의 확고한 신념을 성토한다. 감독 이경순과 최하동하는 이 작품을 위해 3년간 백여 명을 인터뷰했다고 한다. 2001 올해의 독립영화상 수상.\n",
      " 민족과 국가란 공동체에서 부단히 권력과 부를 얻는 자, 나아가 민족과 국가란 공동체에서 얻은 신분과 부귀를 영원히 그의 자손에게 대물림하려는 자, 그래서 민족과 국가란 공동체를 부단히 유지해야만 하는 자, 따라서 민족과 국가란 공동체의 당위성과 개인의 가치를 초월하는 그 존엄성을 끝도 없이 창조하고 되뇌어야 하는 자, 종국에는 민족과 국가란 공동체에 속해 있다고 태내에서부터 세뇌된 모든 이들의 삶과 행동에서 영원히 자기복제되는 순환의 고리, 영생하는 애국의 원동력은 그 순환의 골에서 온다.\n",
      "엽기적인 살인사건이 발생한 장소를 관광하는 투어팀. 그 팀에서 관광객들은 살인사건과 관련하여 히스테리컬한 반응을 보이는데 과연 이들의 정체는? (Tourists see whrer a murder take place. They respond hysterically to the murder…what are they?)\n",
      " 제46회 발라돌리드 국제영화제 (2001, 스페인)\n",
      "착하지만 엉뚱한 태희(배두나 분), 예쁜 깍쟁이 혜주(이요원 분), 그림을 잘 그리는 지영(옥지영 분), 명랑한 쌍둥이 비류(이은실 분)와 온조(이은주 분)는 단짝친구들. 늘 함께였던 그들이지만 스무 살이 되면서 길이 달라진다. 증권회사에 입사한 혜주는 성공한 커리어우먼의 야심을 키우고 미술에 재능이 있는 지영은 유학을 꿈꾼다. 한편 태희는 봉사활동에서 알게 된 뇌성마비 시인을 좋아하는데...\n",
      "  어느 날 지영이 길 잃은 새끼 고양이 티티를 만남면서 스무 살 그녀들의 삶에 고양이 한 마리가 끼어들게 된다. 혼자 있길 좋아하고, 쉽게 마음을 열지 않는 신비로운 동물 고양이. 고양이를 닮은 스무 살 그녀들. 고양이 티티와 함께 한 시간동안 삶은 예상못한 방향으로 흘러가지만 마침내 그녀들만의 해결책을 찾게 되는데... 사랑스런 몽상가 태희, 아름다운 야심가 혜주, 신비로운 아웃사이더 지영. 마지막으로 고양이를 부탁받은 사람은 누구일까?\n",
      "인도 등 아시아 식민지에 처음 발을 디딘 뒤 여행하고 “경영”한 이들은 과연 누구였을까? 과거의 이미지들은, 이민과 인종 문제, ‘오리엔탈리즘’이 격렬히 충돌하고 있는 현재와 강력하게 공명한다.\n",
      " [제19회 인디다큐페스티발]\n",
      "홀로 살아가는 미국 할머니와 한국 할머니의 이야기. 공원에서 가끔 마주치게 되는 그들은 비록 언어 소통의 어려움을 겪지만 시간이 흘러감에 따라 서로 가까워져 그들의 외로움과 우정을 공유하게 된다. 겨울이 지나고 봄이 왔을 때 길가의 민들레 홀씨는 삶의 이치를 말해주듯 한 할머니의 주위를 맴돈다. (Two elderly widows, an American and a Korean, frequent the same park in Philadelphia and attempt a friendship, though the Korean widow speaks no English. Driven by loneliness and a spark of hope, they persevere within the limits of body language, and the outcome poses a question of life as fundamental as a flower.)\n"
     ]
    }
   ],
   "source": [
    "# 시놉시스 데이터 불러오기\n",
    "with open(os.getenv('HOME')+'/aiffel/weat/synopsis.txt', 'r') as file:\n",
    "    for i in range(20):\n",
    "        print(file.readline(), end = '')"
   ]
  },
  {
   "cell_type": "code",
   "execution_count": 3,
   "id": "fa311dd6",
   "metadata": {},
   "outputs": [
    {
     "name": "stdout",
     "output_type": "stream",
     "text": [
      "슝~\n"
     ]
    }
   ],
   "source": [
    "# 품사가 명사인 경우만 남겨 토큰화\n",
    "okt = Okt()\n",
    "tokenized = []\n",
    "with open(os.getenv('HOME')+'/aiffel/weat/synopsis.txt', 'r') as file:\n",
    "    while True:\n",
    "        line = file.readline()\n",
    "        if not line: break\n",
    "        words = okt.pos(line, stem=True, norm=True)\n",
    "        res = []\n",
    "        for w in words:\n",
    "            if w[1] in [\"Noun\"]:\n",
    "                res.append(w[0])    \n",
    "        tokenized.append(res)\n",
    "\n",
    "print(\"슝~\")"
   ]
  },
  {
   "cell_type": "code",
   "execution_count": 4,
   "id": "101879a3",
   "metadata": {},
   "outputs": [
    {
     "name": "stdout",
     "output_type": "stream",
     "text": [
      "71156\n"
     ]
    }
   ],
   "source": [
    "# 토큰화된 명사들 갯수 출력\n",
    "print(len(tokenized))"
   ]
  },
  {
   "cell_type": "markdown",
   "id": "30329021",
   "metadata": {},
   "source": [
    "## 추출된 결과로 embedding model 만들기"
   ]
  },
  {
   "cell_type": "code",
   "execution_count": 5,
   "id": "6dbebc27",
   "metadata": {},
   "outputs": [],
   "source": [
    "# 추출된 결과 임베딩 벡터 만들기\n",
    "model = Word2Vec(tokenized, vector_size=100, window=5, min_count=3, sg=0)  "
   ]
  },
  {
   "cell_type": "code",
   "execution_count": 6,
   "id": "86955943",
   "metadata": {},
   "outputs": [
    {
     "data": {
      "text/plain": [
       "[('작품', 0.8918180465698242),\n",
       " ('다큐멘터리', 0.8557893633842468),\n",
       " ('드라마', 0.83006751537323),\n",
       " ('영화로', 0.8064047694206238),\n",
       " ('형식', 0.789454996585846),\n",
       " ('코미디', 0.7887555956840515),\n",
       " ('주제', 0.7878427505493164),\n",
       " ('소재', 0.7669915556907654),\n",
       " ('에마데딘', 0.7612875699996948),\n",
       " ('시대극', 0.7594589591026306)]"
      ]
     },
     "execution_count": 6,
     "metadata": {},
     "output_type": "execute_result"
    }
   ],
   "source": [
    "# 워드 임베딩 결과 확인 postive와 유사한 단어 출력\n",
    "model.wv.most_similar(positive=['영화'])"
   ]
  },
  {
   "cell_type": "code",
   "execution_count": 7,
   "id": "ae76c75f",
   "metadata": {},
   "outputs": [
    {
     "data": {
      "text/plain": [
       "[('행복', 0.7048884034156799),\n",
       " ('진심', 0.7043840885162354),\n",
       " ('가슴', 0.6993446350097656),\n",
       " ('첫사랑', 0.6992737650871277),\n",
       " ('아픔', 0.6945721507072449),\n",
       " ('애정', 0.6923965215682983),\n",
       " ('우정', 0.6915966272354126),\n",
       " ('만남', 0.6885371804237366),\n",
       " ('마음', 0.6880574822425842),\n",
       " ('이별', 0.6838285326957703)]"
      ]
     },
     "execution_count": 7,
     "metadata": {},
     "output_type": "execute_result"
    }
   ],
   "source": [
    "model.wv.most_similar(positive=['사랑'])"
   ]
  },
  {
   "cell_type": "code",
   "execution_count": 8,
   "id": "05c24e1d",
   "metadata": {},
   "outputs": [
    {
     "data": {
      "text/plain": [
       "[('영화감독', 0.8981429934501648),\n",
       " ('시나리오', 0.8888007998466492),\n",
       " ('공연', 0.8741369843482971),\n",
       " ('데뷔', 0.871048629283905),\n",
       " ('오페라', 0.8699138164520264),\n",
       " ('영감', 0.862409770488739),\n",
       " ('각색', 0.8584601283073425),\n",
       " ('배우', 0.8579843044281006),\n",
       " ('예술가', 0.8538257479667664),\n",
       " ('캐스팅', 0.851132869720459)]"
      ]
     },
     "execution_count": 8,
     "metadata": {},
     "output_type": "execute_result"
    }
   ],
   "source": [
    "model.wv.most_similar(positive=['연극'])"
   ]
  },
  {
   "cell_type": "markdown",
   "id": "b0d52877",
   "metadata": {},
   "source": [
    "## TF/IDF로 해당 데이터를 가장 잘 표현하는 단어 셋 만들기"
   ]
  },
  {
   "cell_type": "code",
   "execution_count": 9,
   "id": "b3bca7d4",
   "metadata": {},
   "outputs": [
    {
     "name": "stdout",
     "output_type": "stream",
     "text": [
      "슝~\n"
     ]
    }
   ],
   "source": [
    "# 예술영화와 일반 영화 시놉시스 데이터 불러오기\n",
    "art_txt = 'synopsis_art.txt'\n",
    "gen_txt = 'synopsis_gen.txt'\n",
    "\n",
    "def read_token(file_name):\n",
    "    okt = Okt()\n",
    "    result = []\n",
    "    with open(os.getenv('HOME')+'/aiffel/weat/'+file_name, 'r') as fread: \n",
    "        print(file_name, '파일을 읽고 있습니다.')\n",
    "        while True:\n",
    "            line = fread.readline() \n",
    "            if not line: break \n",
    "            tokenlist = okt.pos(line, stem=True, norm=True) \n",
    "            for word in tokenlist:\n",
    "                if word[1] in [\"Noun\"]:\n",
    "                    result.append((word[0])) \n",
    "    return ' '.join(result)\n",
    "\n",
    "print(\"슝~\")"
   ]
  },
  {
   "cell_type": "code",
   "execution_count": 10,
   "id": "72cb82e6",
   "metadata": {},
   "outputs": [
    {
     "name": "stdout",
     "output_type": "stream",
     "text": [
      "synopsis_art.txt 파일을 읽고 있습니다.\n",
      "synopsis_gen.txt 파일을 읽고 있습니다.\n"
     ]
    }
   ],
   "source": [
    "# 품사가 명사인 경우만 남겨 토큰화\n",
    "art = read_token(art_txt)\n",
    "gen = read_token(gen_txt)"
   ]
  },
  {
   "cell_type": "code",
   "execution_count": 11,
   "id": "f3ef2972",
   "metadata": {},
   "outputs": [
    {
     "name": "stdout",
     "output_type": "stream",
     "text": [
      "(2, 41082)\n"
     ]
    }
   ],
   "source": [
    "# Tfidf 수행하기 위한 객체 생성\n",
    "vectorizer = TfidfVectorizer()\n",
    "X = vectorizer.fit_transform([art, gen])\n",
    "\n",
    "print(X.shape)"
   ]
  },
  {
   "cell_type": "code",
   "execution_count": 12,
   "id": "87b31e74",
   "metadata": {},
   "outputs": [
    {
     "name": "stdout",
     "output_type": "stream",
     "text": [
      "23976\n",
      "영화\n"
     ]
    },
    {
     "name": "stderr",
     "output_type": "stream",
     "text": [
      "/opt/conda/lib/python3.9/site-packages/sklearn/utils/deprecation.py:87: FutureWarning: Function get_feature_names is deprecated; get_feature_names is deprecated in 1.0 and will be removed in 1.2. Please use get_feature_names_out instead.\n",
      "  warnings.warn(msg, category=FutureWarning)\n"
     ]
    }
   ],
   "source": [
    "# '영화'의 index 확인\n",
    "print(vectorizer.vocabulary_['영화'])\n",
    "print(vectorizer.get_feature_names()[23976])"
   ]
  },
  {
   "cell_type": "code",
   "execution_count": 13,
   "id": "1be41061",
   "metadata": {},
   "outputs": [
    {
     "name": "stdout",
     "output_type": "stream",
     "text": [
      "예술영화를 대표하는 단어들:\n",
      "그녀, 자신, 시작, 위해, 사랑, 사람, 영화, 친구, 남자, 가족, 이야기, 마을, 사건, 마음, 세상, 아버지, 아이, 엄마, 모든, 여자, 대한, 서로, 과연, 다시, 시간, 아들, 소녀, 아내, 다른, 사이, 영화제, 세계, 사실, 하나, 점점, 남편, 감독, 여행, 인생, 발견, 모두, 순간, 우리, 가장, 마지막, 생활, 아빠, 모습, 통해, 죽음, 기억, 비밀, 학교, 음악, 한편, 소년, 생각, 도시, 명의, 사고, 결혼, 전쟁, 때문, 위기, 이제, 최고, 이자, 과거, 일상, 경찰, 상황, 간다, 미국, 결심, 운명, 현실, 관계, 지금, 단편, 여인, 하루, 이름, 이후, 준비, 인간, 감정, 만난, 국제, 처음, 충격, 살인, 누구, 동안, 존재, 그린, 어머니, 연인, 계속, 동생, 작품, \n",
      "\n",
      "일반영화를 대표하는 단어들:\n",
      "자신, 그녀, 영화제, 위해, 사람, 시작, 국제, 영화, 친구, 사랑, 남자, 이야기, 대한, 서울, 여자, 사건, 남편, 아이, 가족, 아버지, 다른, 마을, 시간, 엄마, 아들, 모든, 단편, 마음, 사실, 다시, 세계, 모습, 작품, 통해, 생각, 서로, 세상, 발견, 감독, 아내, 관계, 소녀, 사이, 하나, 우리, 애니메이션, 때문, 여성, 죽음, 과연, 점점, 인간, 생활, 한편, 결혼, 상황, 모두, 기억, 명의, 소년, 여행, 가장, 간다, 순간, 이제, 도시, 비밀, 학교, 과거, 가지, 이자, 경찰, 마지막, 미국, 동안, 전쟁, 주인공, 대해, 존재, 현실, 연출, 사고, 살인, 일상, 어머니, 계속, 사회, 인생, 다큐멘터리, 부문, 섹스, 최고, 바로, 동생, 의도, 하루, 위기, 계획, 정체, 한국, "
     ]
    }
   ],
   "source": [
    "# 에술영화와 일반영화를 대표하는 단어를 찾기 위해 tf_idf 결과 사용\n",
    "m1 = X[0].tocoo()   \n",
    "m2 = X[1].tocoo()  \n",
    "\n",
    "w1 = [[i, j] for i, j in zip(m1.col, m1.data)]\n",
    "w2 = [[i, j] for i, j in zip(m2.col, m2.data)]\n",
    "\n",
    "w1.sort(key=lambda x: x[1], reverse=True) \n",
    "w2.sort(key=lambda x: x[1], reverse=True) \n",
    "\n",
    "print('예술영화를 대표하는 단어들:')\n",
    "for i in range(100):\n",
    "    print(vectorizer.get_feature_names()[w1[i][0]], end=', ')\n",
    "\n",
    "print('\\n')\n",
    "    \n",
    "print('일반영화를 대표하는 단어들:')\n",
    "for i in range(100):\n",
    "    print(vectorizer.get_feature_names()[w2[i][0]], end=', ')"
   ]
  },
  {
   "cell_type": "code",
   "execution_count": 14,
   "id": "72baa272",
   "metadata": {},
   "outputs": [],
   "source": [
    "# 중복으로 추출된 단어 제거\n",
    "n = 15\n",
    "w1_, w2_ = [], []\n",
    "for i in range(100):\n",
    "    w1_.append(vectorizer.get_feature_names()[w1[i][0]])\n",
    "    w2_.append(vectorizer.get_feature_names()[w2[i][0]])\n",
    "\n",
    "# w1에만 있고 w2에는 없는, 예술영화를 잘 대표하는 단어를 15개 추출한다.\n",
    "target_art, target_gen = [], []\n",
    "for i in range(100):\n",
    "    if (w1_[i] not in w2_) and (w1_[i] in model.wv): target_art.append(w1_[i])\n",
    "    if len(target_art) == n: break \n",
    "\n",
    "# w2에만 있고 w1에는 없는, 일반영화를 잘 대표하는 단어를 15개 추출한다.\n",
    "for i in range(100):\n",
    "    if (w2_[i] not in w1_) and (w2_[i] in model.wv): target_gen.append(w2_[i])\n",
    "    if len(target_gen) == n: break"
   ]
  },
  {
   "cell_type": "code",
   "execution_count": 15,
   "id": "a6ee68e2",
   "metadata": {},
   "outputs": [
    {
     "name": "stdout",
     "output_type": "stream",
     "text": [
      "['아빠', '음악', '결심', '운명', '지금', '여인', '이름', '이후', '준비', '감정', '만난', '처음', '충격', '누구', '그린']\n"
     ]
    }
   ],
   "source": [
    "# 추출된 단어 확인\n",
    "print(target_art)"
   ]
  },
  {
   "cell_type": "code",
   "execution_count": 16,
   "id": "ee5e425b",
   "metadata": {},
   "outputs": [
    {
     "name": "stdout",
     "output_type": "stream",
     "text": [
      "['서울', '애니메이션', '여성', '가지', '주인공', '대해', '연출', '사회', '다큐멘터리', '부문', '섹스', '바로', '의도', '계획', '정체']\n"
     ]
    }
   ],
   "source": [
    "print(target_gen)"
   ]
  },
  {
   "cell_type": "code",
   "execution_count": 17,
   "id": "9056f151",
   "metadata": {},
   "outputs": [],
   "source": [
    "# 장르별 시놉시스 데이터\n",
    "genre_txt = ['synopsis_SF.txt', 'synopsis_family.txt', 'synopsis_show.txt', 'synopsis_horror.txt', 'synopsis_etc.txt', \n",
    "             'synopsis_documentary.txt', 'synopsis_drama.txt', 'synopsis_romance.txt', 'synopsis_musical.txt', \n",
    "             'synopsis_mystery.txt', 'synopsis_crime.txt', 'synopsis_historical.txt', 'synopsis_western.txt', \n",
    "             'synopsis_adult.txt', 'synopsis_thriller.txt', 'synopsis_animation.txt', 'synopsis_action.txt', \n",
    "             'synopsis_adventure.txt', 'synopsis_war.txt', 'synopsis_comedy.txt', 'synopsis_fantasy.txt']\n",
    "genre_name = ['SF', '가족', '공연', '공포(호러)', '기타', '다큐멘터리', '드라마', '멜로로맨스', '뮤지컬', '미스터리', '범죄', '사극', '서부극(웨스턴)',\n",
    "         '성인물(에로)', '스릴러', '애니메이션', '액션', '어드벤처', '전쟁', '코미디', '판타지']"
   ]
  },
  {
   "cell_type": "code",
   "execution_count": 18,
   "id": "730dc423",
   "metadata": {},
   "outputs": [
    {
     "name": "stdout",
     "output_type": "stream",
     "text": [
      "synopsis_SF.txt 파일을 읽고 있습니다.\n",
      "synopsis_family.txt 파일을 읽고 있습니다.\n",
      "synopsis_show.txt 파일을 읽고 있습니다.\n",
      "synopsis_horror.txt 파일을 읽고 있습니다.\n",
      "synopsis_etc.txt 파일을 읽고 있습니다.\n",
      "synopsis_documentary.txt 파일을 읽고 있습니다.\n",
      "synopsis_drama.txt 파일을 읽고 있습니다.\n",
      "synopsis_romance.txt 파일을 읽고 있습니다.\n",
      "synopsis_musical.txt 파일을 읽고 있습니다.\n",
      "synopsis_mystery.txt 파일을 읽고 있습니다.\n",
      "synopsis_crime.txt 파일을 읽고 있습니다.\n",
      "synopsis_historical.txt 파일을 읽고 있습니다.\n",
      "synopsis_western.txt 파일을 읽고 있습니다.\n",
      "synopsis_adult.txt 파일을 읽고 있습니다.\n",
      "synopsis_thriller.txt 파일을 읽고 있습니다.\n",
      "synopsis_animation.txt 파일을 읽고 있습니다.\n",
      "synopsis_action.txt 파일을 읽고 있습니다.\n",
      "synopsis_adventure.txt 파일을 읽고 있습니다.\n",
      "synopsis_war.txt 파일을 읽고 있습니다.\n",
      "synopsis_comedy.txt 파일을 읽고 있습니다.\n",
      "synopsis_fantasy.txt 파일을 읽고 있습니다.\n"
     ]
    }
   ],
   "source": [
    "# 품사가 명사인 경우만 남겨 토큰화\n",
    "genre = []\n",
    "for file_name in genre_txt:\n",
    "    genre.append(read_token(file_name))"
   ]
  },
  {
   "cell_type": "code",
   "execution_count": 19,
   "id": "d4cb9e68",
   "metadata": {},
   "outputs": [
    {
     "name": "stdout",
     "output_type": "stream",
     "text": [
      "(21, 42191)\n"
     ]
    }
   ],
   "source": [
    "# Tfidf 수행하기 위한 객체 생성\n",
    "vectorizer = TfidfVectorizer()\n",
    "X = vectorizer.fit_transform(genre)\n",
    "\n",
    "print(X.shape)"
   ]
  },
  {
   "cell_type": "code",
   "execution_count": 20,
   "id": "7c3ef3ab",
   "metadata": {},
   "outputs": [
    {
     "name": "stdout",
     "output_type": "stream",
     "text": [
      "SF: 위해, 자신, 지구, 시작, 사람, 인류, 인간, 미래, 우주, 그녀, 로봇, 세계, 모든, 박사, 우주선, \n",
      "가족: 엄마, 아빠, 가족, 영화제, 자신, 위해, 친구, 아주르, 아버지, 시작, 그녀, 아들, 마을, 국제, 낙타, \n",
      "공연: 오페라, 사랑, 토스카, 실황, 올레, 자신, 카바, 그녀, 공연, 오텔로, 리골레토, 백작, 프레, 베르디, 위해, \n",
      "공포(호러): 시작, 위해, 사람, 자신, 친구, 그녀, 사건, 공포, 발견, 죽음, 마을, 가족, 악령, 남자, 좀비, \n",
      "기타: 영화제, 국제, 서울, 단편, 영화, 자신, 사람, 이야기, 그녀, 남자, 위해, 시작, 사랑, 뉴미디어, 페스티벌, \n",
      "다큐멘터리: 영화제, 영화, 다큐, 국제, 다큐멘터리, 사람, 이야기, 대한, 자신, 감독, 위해, 서울, 우리, 시작, 세계, \n",
      "드라마: 자신, 영화제, 그녀, 사람, 사랑, 영화, 위해, 시작, 국제, 남자, 친구, 이야기, 엄마, 여자, 아버지, \n",
      "멜로로맨스: 그녀, 사랑, 자신, 시작, 남편, 남자, 여자, 사람, 친구, 섹스, 위해, 마음, 결혼, 서로, 아내, \n",
      "뮤지컬: 뮤지컬, 사랑, 에스메랄다, 그녀, 음악, 충무로, 모차르트, 영화, 토스카, 자신, 니웨, 카바, 영화제, 바흐, 페뷔스, \n",
      "미스터리: 사건, 그녀, 시작, 자신, 위해, 사람, 발견, 사고, 진실, 죽음, 기억, 살인, 친구, 아내, 남자, \n",
      "범죄: 사건, 위해, 자신, 경찰, 시작, 그녀, 범죄, 조직, 살인, 사람, 마약, 형사, 남자, 모든, 살해, \n",
      "사극: 조선, 위해, 시작, 신기전, 사랑, 자신, 아가멤논, 황제, 그녀, 루안, 최고, 운명, 사람, 하선, 전쟁, \n",
      "서부극(웨스턴): 서부, 보안관, 위해, 벌린, 카우보이, 그레이프바인, 헨리, 마을, 자신, 개릿, 아이, 시작, 무법자, 프린트, 마적, \n",
      "성인물(에로): 그녀, 남편, 마사지, 자신, 섹스, 관계, 영화, 정사, 남자, 위해, 시작, 여자, 유부녀, 마음, 사랑, \n",
      "스릴러: 자신, 그녀, 사건, 시작, 위해, 사람, 살인, 남자, 발견, 아내, 경찰, 친구, 모든, 사실, 살해, \n",
      "애니메이션: 애니메이션, 국제, 영화제, 친구, 인디애니페스트, 위해, 자신, 시작, 사람, 페스티벌, 서울, 이야기, 아이, 마을, 소녀, \n",
      "액션: 위해, 자신, 시작, 조직, 사건, 사람, 그녀, 경찰, 전쟁, 모든, 목숨, 사실, 친구, 가족, 요원, \n",
      "어드벤처: 위해, 자신, 시작, 친구, 마을, 아버지, 영화, 아이, 사람, 여행, 세계, 앤트, 세상, 가족, 모험, \n",
      "전쟁: 전쟁, 독일군, 전투, 위해, 작전, 시작, 부대, 윈터스, 독일, 연합군, 미군, 임무, 자신, 사람, 나치, \n",
      "코미디: 그녀, 자신, 시작, 위해, 사랑, 사람, 친구, 영화, 남자, 여자, 영화제, 가족, 과연, 마을, 사건, \n",
      "판타지: 자신, 그녀, 시작, 위해, 사람, 사랑, 요괴, 영화제, 이야기, 영화, 소녀, 남자, 인간, 세상, 마을, \n"
     ]
    }
   ],
   "source": [
    "# 각 장르별로 대표하는 단어를 찾기 위해 tf_idf 결과 사용\n",
    "m = [X[i].tocoo() for i in range(X.shape[0])]\n",
    "\n",
    "w = [[[i, j] for i, j in zip(mm.col, mm.data)] for mm in m]\n",
    "\n",
    "for i in range(len(w)):\n",
    "    w[i].sort(key=lambda x: x[1], reverse=True)\n",
    "attributes = []\n",
    "for i in range(len(w)):\n",
    "    print(genre_name[i], end=': ')\n",
    "    attr = []\n",
    "    j = 0\n",
    "    while (len(attr) < 15):\n",
    "        if vectorizer.get_feature_names()[w[i][j][0]] in model.wv:\n",
    "            attr.append(vectorizer.get_feature_names()[w[i][j][0]])\n",
    "            print(vectorizer.get_feature_names()[w[i][j][0]], end=', ')\n",
    "        j += 1\n",
    "    attributes.append(attr)\n",
    "    print()"
   ]
  },
  {
   "cell_type": "markdown",
   "id": "25b236aa",
   "metadata": {},
   "source": [
    "## embedding model과 단어 셋으로 WEAT score 구해보기"
   ]
  },
  {
   "cell_type": "code",
   "execution_count": 21,
   "id": "902f2018",
   "metadata": {},
   "outputs": [],
   "source": [
    "def cos_sim(i, j):\n",
    "    return dot(i, j.T)/(norm(i)*norm(j))\n",
    "\n",
    "def s(w, A, B):\n",
    "    c_a = cos_sim(w, A)\n",
    "    c_b = cos_sim(w, B)\n",
    "    mean_A = np.mean(c_a, axis=-1)\n",
    "    mean_B = np.mean(c_b, axis=-1)\n",
    "    \n",
    "    return mean_A - mean_B #, c_a, c_b"
   ]
  },
  {
   "cell_type": "code",
   "execution_count": 22,
   "id": "56f532b5",
   "metadata": {},
   "outputs": [],
   "source": [
    "def weat_score(X, Y, A, B):\n",
    "    \n",
    "    s_X = s(X, A, B)\n",
    "    s_Y = s(Y, A, B)\n",
    "\n",
    "    mean_X = np.mean(s_X)\n",
    "    mean_Y = np.mean(s_Y)\n",
    "    \n",
    "    std_dev = np.std(np.concatenate([s_X, s_Y], axis=0))\n",
    "    \n",
    "    return  (mean_X-mean_Y)/std_dev"
   ]
  },
  {
   "cell_type": "code",
   "execution_count": 23,
   "id": "4fb6d63d",
   "metadata": {},
   "outputs": [
    {
     "name": "stdout",
     "output_type": "stream",
     "text": [
      "슝~\n"
     ]
    }
   ],
   "source": [
    "# WEAT score 결과를 담을 matrix 생성\n",
    "matrix = [[0 for _ in range(len(genre_name))] for _ in range(len(genre_name))]\n",
    "print(\"슝~\")"
   ]
  },
  {
   "cell_type": "code",
   "execution_count": 24,
   "id": "b7577fa8",
   "metadata": {},
   "outputs": [
    {
     "name": "stdout",
     "output_type": "stream",
     "text": [
      "슝~\n"
     ]
    }
   ],
   "source": [
    "# WEAT score 계산\n",
    "X = np.array([model.wv[word] for word in target_art])\n",
    "Y = np.array([model.wv[word] for word in target_gen])\n",
    "\n",
    "for i in range(len(genre_name)-1):\n",
    "    for j in range(i+1, len(genre_name)):\n",
    "        A = np.array([model.wv[word] for word in attributes[i]])\n",
    "        B = np.array([model.wv[word] for word in attributes[j]])\n",
    "        matrix[i][j] = weat_score(X, Y, A, B)\n",
    "\n",
    "print(\"슝~\")"
   ]
  },
  {
   "cell_type": "code",
   "execution_count": 25,
   "id": "98b3a74d",
   "metadata": {},
   "outputs": [
    {
     "name": "stdout",
     "output_type": "stream",
     "text": [
      "SF 가족 -0.5101869\n",
      "SF 공연 -0.41209698\n",
      "SF 공포(호러) -0.65326566\n",
      "SF 기타 0.37046093\n",
      "SF 다큐멘터리 0.6158745\n",
      "SF 드라마 -0.36090612\n",
      "SF 멜로로맨스 -0.78105617\n",
      "SF 뮤지컬 0.3443659\n",
      "SF 미스터리 -0.6650988\n",
      "SF 범죄 -0.20124567\n",
      "SF 사극 -0.82791996\n",
      "SF 서부극(웨스턴) -0.40887633\n",
      "SF 성인물(에로) -0.55095696\n",
      "SF 스릴러 -0.5108818\n",
      "SF 애니메이션 0.3682147\n",
      "SF 액션 -0.44641444\n",
      "SF 어드벤처 -0.7587063\n",
      "SF 전쟁 0.23344678\n",
      "SF 코미디 -0.4079948\n",
      "SF 판타지 -0.16307126\n",
      "가족 공연 0.16605186\n",
      "가족 공포(호러) -0.14135252\n",
      "가족 기타 0.7847452\n",
      "가족 다큐멘터리 0.861802\n",
      "가족 드라마 0.25417164\n",
      "가족 멜로로맨스 -0.602268\n",
      "가족 뮤지컬 0.72308934\n",
      "가족 미스터리 -0.28302222\n",
      "가족 범죄 0.25529042\n",
      "가족 사극 -0.059004605\n",
      "가족 서부극(웨스턴) 0.4598897\n",
      "가족 성인물(에로) -0.28508273\n",
      "가족 스릴러 -0.11383311\n",
      "가족 애니메이션 0.879659\n",
      "가족 액션 0.13437161\n",
      "가족 어드벤처 0.013550644\n",
      "가족 전쟁 0.6655322\n",
      "가족 코미디 0.24801756\n",
      "가족 판타지 0.46053782\n",
      "공연 공포(호러) -0.21762292\n",
      "공연 기타 0.9702416\n",
      "공연 다큐멘터리 0.9613958\n",
      "공연 드라마 0.09928685\n",
      "공연 멜로로맨스 -0.683784\n",
      "공연 뮤지컬 0.92060435\n",
      "공연 미스터리 -0.32654887\n",
      "공연 범죄 0.13605769\n",
      "공연 사극 -0.316511\n",
      "공연 서부극(웨스턴) 0.09951495\n",
      "공연 성인물(에로) -0.4314976\n",
      "공연 스릴러 -0.18601938\n",
      "공연 애니메이션 0.9391768\n",
      "공연 액션 0.005924553\n",
      "공연 어드벤처 -0.15769474\n",
      "공연 전쟁 0.64428186\n",
      "공연 코미디 0.08742977\n",
      "공연 판타지 0.4055249\n",
      "공포(호러) 기타 0.6595948\n",
      "공포(호러) 다큐멘터리 0.76051915\n",
      "공포(호러) 드라마 0.31833202\n",
      "공포(호러) 멜로로맨스 -0.61960024\n",
      "공포(호러) 뮤지컬 0.6215462\n",
      "공포(호러) 미스터리 -0.5411863\n",
      "공포(호러) 범죄 0.7218958\n",
      "공포(호러) 사극 0.10956777\n",
      "공포(호러) 서부극(웨스턴) 0.39608863\n",
      "공포(호러) 성인물(에로) -0.20136137\n",
      "공포(호러) 스릴러 0.014237832\n",
      "공포(호러) 애니메이션 0.665458\n",
      "공포(호러) 액션 0.550391\n",
      "공포(호러) 어드벤처 0.1816332\n",
      "공포(호러) 전쟁 0.648409\n",
      "공포(호러) 코미디 0.45953065\n",
      "공포(호러) 판타지 0.53958917\n",
      "기타 다큐멘터리 0.58670986\n",
      "기타 드라마 -0.9092863\n",
      "기타 멜로로맨스 -0.90797484\n",
      "기타 뮤지컬 -0.14623712\n",
      "기타 미스터리 -0.67234266\n",
      "기타 범죄 -0.38865352\n",
      "기타 사극 -0.8552869\n",
      "기타 서부극(웨스턴) -0.6464518\n",
      "기타 성인물(에로) -0.8274686\n",
      "기타 스릴러 -0.5792601\n",
      "기타 애니메이션 -0.11807338\n",
      "기타 액션 -0.501634\n",
      "기타 어드벤처 -0.8207187\n",
      "기타 전쟁 -0.25213626\n",
      "기타 코미디 -0.7482301\n",
      "기타 판타지 -0.7160624\n",
      "다큐멘터리 드라마 -0.9349362\n",
      "다큐멘터리 멜로로맨스 -0.91150606\n",
      "다큐멘터리 뮤지컬 -0.7742945\n",
      "다큐멘터리 미스터리 -0.7595024\n",
      "다큐멘터리 범죄 -0.5103831\n",
      "다큐멘터리 사극 -0.933368\n",
      "다큐멘터리 서부극(웨스턴) -0.75332856\n",
      "다큐멘터리 성인물(에로) -0.84212554\n",
      "다큐멘터리 스릴러 -0.66711247\n",
      "다큐멘터리 애니메이션 -0.5695423\n",
      "다큐멘터리 액션 -0.62712455\n",
      "다큐멘터리 어드벤처 -0.9665028\n",
      "다큐멘터리 전쟁 -0.4656307\n",
      "다큐멘터리 코미디 -0.83470106\n",
      "다큐멘터리 판타지 -0.9117746\n",
      "드라마 멜로로맨스 -0.8449982\n",
      "드라마 뮤지컬 0.83636934\n",
      "드라마 미스터리 -0.423212\n",
      "드라마 범죄 0.103085406\n",
      "드라마 사극 -0.36258826\n",
      "드라마 서부극(웨스턴) 0.023925034\n",
      "드라마 성인물(에로) -0.5757885\n",
      "드라마 스릴러 -0.25193873\n",
      "드라마 애니메이션 0.8774262\n",
      "드라마 액션 -0.039612174\n",
      "드라마 어드벤처 -0.28692567\n",
      "드라마 전쟁 0.46796656\n",
      "드라마 코미디 0.016009005\n",
      "드라마 판타지 0.5557424\n",
      "멜로로맨스 뮤지컬 0.87122923\n",
      "멜로로맨스 미스터리 0.44940332\n",
      "멜로로맨스 범죄 0.8746183\n",
      "멜로로맨스 사극 0.639393\n",
      "멜로로맨스 서부극(웨스턴) 0.7286279\n",
      "멜로로맨스 성인물(에로) 0.846485\n",
      "멜로로맨스 스릴러 0.6620209\n",
      "멜로로맨스 애니메이션 0.8778197\n",
      "멜로로맨스 액션 0.7523068\n",
      "멜로로맨스 어드벤처 0.59562033\n",
      "멜로로맨스 전쟁 0.7990671\n",
      "멜로로맨스 코미디 0.92112416\n",
      "멜로로맨스 판타지 0.84194374\n",
      "뮤지컬 미스터리 -0.6420736\n",
      "뮤지컬 범죄 -0.35500202\n",
      "뮤지컬 사극 -0.81910557\n",
      "뮤지컬 서부극(웨스턴) -0.5859816\n",
      "뮤지컬 성인물(에로) -0.7894705\n",
      "뮤지컬 스릴러 -0.54569876\n",
      "뮤지컬 애니메이션 -0.005604318\n",
      "뮤지컬 액션 -0.46978506\n",
      "뮤지컬 어드벤처 -0.78801125\n",
      "뮤지컬 전쟁 -0.2087591\n",
      "뮤지컬 코미디 -0.6869815\n",
      "뮤지컬 판타지 -0.6674445\n",
      "미스터리 범죄 1.0590769\n",
      "미스터리 사극 0.27396917\n",
      "미스터리 서부극(웨스턴) 0.48399514\n",
      "미스터리 성인물(에로) -0.024791153\n",
      "미스터리 스릴러 0.77026564\n",
      "미스터리 애니메이션 0.668468\n",
      "미스터리 액션 0.7702927\n",
      "미스터리 어드벤처 0.3170604\n",
      "미스터리 전쟁 0.6689615\n",
      "미스터리 코미디 0.54759914\n",
      "미스터리 판타지 0.57541066\n",
      "범죄 사극 -0.34770107\n",
      "범죄 서부극(웨스턴) -0.11616942\n",
      "범죄 성인물(에로) -0.51009226\n",
      "범죄 스릴러 -1.0182446\n",
      "범죄 애니메이션 0.37575468\n",
      "범죄 액션 -0.42684776\n",
      "범죄 어드벤처 -0.25394005\n",
      "범죄 전쟁 0.34590083\n",
      "범죄 코미디 -0.12646458\n",
      "범죄 판타지 0.082813516\n",
      "사극 서부극(웨스턴) 0.3963899\n",
      "사극 성인물(에로) -0.29422593\n",
      "사극 스릴러 -0.08107942\n",
      "사극 애니메이션 0.8446067\n",
      "사극 액션 0.22529075\n",
      "사극 어드벤처 0.10319993\n",
      "사극 전쟁 0.88648385\n",
      "사극 코미디 0.47434726\n",
      "사극 판타지 0.68895626\n",
      "서부극(웨스턴) 성인물(에로) -0.4183907\n",
      "서부극(웨스턴) 스릴러 -0.31715348\n",
      "서부극(웨스턴) 애니메이션 0.70661485\n",
      "서부극(웨스턴) 액션 -0.08124465\n",
      "서부극(웨스턴) 어드벤처 -0.35388643\n",
      "서부극(웨스턴) 전쟁 0.6753473\n",
      "서부극(웨스턴) 코미디 -0.019155718\n",
      "서부극(웨스턴) 판타지 0.26421\n",
      "성인물(에로) 스릴러 0.20727193\n",
      "성인물(에로) 애니메이션 0.76090366\n",
      "성인물(에로) 액션 0.37795818\n",
      "성인물(에로) 어드벤처 0.28953546\n",
      "성인물(에로) 전쟁 0.602197\n",
      "성인물(에로) 코미디 0.59287906\n",
      "성인물(에로) 판타지 0.63151777\n",
      "스릴러 애니메이션 0.5752783\n",
      "스릴러 액션 0.5107353\n",
      "스릴러 어드벤처 0.12427527\n",
      "스릴러 전쟁 0.57569903\n",
      "스릴러 코미디 0.32843176\n",
      "스릴러 판타지 0.4062381\n",
      "애니메이션 액션 -0.50310117\n",
      "애니메이션 어드벤처 -0.88843054\n",
      "애니메이션 전쟁 -0.24026324\n",
      "애니메이션 코미디 -0.7274428\n",
      "애니메이션 판타지 -0.682612\n",
      "액션 어드벤처 -0.13856108\n",
      "액션 전쟁 0.5517177\n",
      "액션 코미디 0.058210265\n",
      "액션 판타지 0.24367902\n",
      "어드벤처 전쟁 0.7010604\n",
      "어드벤처 코미디 0.3415802\n",
      "어드벤처 판타지 0.74641585\n",
      "전쟁 코미디 -0.49929664\n",
      "전쟁 판타지 -0.28017157\n",
      "코미디 판타지 0.51204693\n"
     ]
    }
   ],
   "source": [
    "# WEAT matrix 출력\n",
    "for i in range(len(genre_name)-1):\n",
    "    for j in range(i+1, len(genre_name)):\n",
    "        print(genre_name[i], genre_name[j],matrix[i][j])"
   ]
  },
  {
   "cell_type": "code",
   "execution_count": 26,
   "id": "2b1c2f47",
   "metadata": {},
   "outputs": [
    {
     "data": {
      "text/plain": [
       "<AxesSubplot:>"
      ]
     },
     "execution_count": 26,
     "metadata": {},
     "output_type": "execute_result"
    },
    {
     "data": {
      "image/png": "[encoded data removed]",
      "text/plain": [
       "<Figure size 432x288 with 2 Axes>"
      ]
     },
     "metadata": {},
     "output_type": "display_data"
    }
   ],
   "source": [
    "# WEAT 결과 heatmap 시각화\n",
    "np.random.seed(0)\n",
    "\n",
    "# 한글 지원 폰트\n",
    "sns.set(font='NanumGothic')\n",
    "\n",
    "# 마이너스 부호 \n",
    "plt.rcParams['axes.unicode_minus'] = False\n",
    "\n",
    "ax = sns.heatmap(matrix, xticklabels=genre_name, yticklabels=genre_name, annot=True,  cmap='RdYlGn_r')\n",
    "ax"
   ]
  }
 ],
 "metadata": {
  "kernelspec": {
   "display_name": "Python 3 (ipykernel)",
   "language": "python",
   "name": "python3"
  },
  "language_info": {
   "codemirror_mode": {
    "name": "ipython",
    "version": 3
   },
   "file_extension": ".py",
   "mimetype": "text/x-python",
   "name": "python",
   "nbconvert_exporter": "python",
   "pygments_lexer": "ipython3",
   "version": "3.9.7"
  }
 },
 "nbformat": 4,
 "nbformat_minor": 5
}
