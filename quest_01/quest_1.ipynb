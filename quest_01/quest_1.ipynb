{
 "cells": [
  {
   "cell_type": "markdown",
   "id": "6027dcf6",
   "metadata": {},
   "source": [
    "# 나만의 n면체 주사위 위젯 만들기"
   ]
  },
  {
   "cell_type": "code",
   "execution_count": 46,
   "id": "499f8936",
   "metadata": {
    "scrolled": true
   },
   "outputs": [
    {
     "name": "stdout",
     "output_type": "stream",
     "text": [
      "게임 종료!\n",
      "최종 기록 : [10, 8, 1, 3, 10, 8, 5, 1, 6, 3]\n",
      "최종 점수 : 55점\n",
      "평균 점수 : 5.5점\n"
     ]
    }
   ],
   "source": [
    "from random import randrange\n",
    "import time\n",
    "from IPython.display import clear_output\n",
    "\n",
    "class FunnyDice:\n",
    "    '''\n",
    "        <변수 설명>\n",
    "        self.n : 총 몇 면체인지\n",
    "        self.val : 현재 주사위 값\n",
    "        self.log : 현재까지 주사위 기록 \n",
    "        self.score : 주사위 점수 합\n",
    "    '''\n",
    "    # 주사위 클래스 생성자\n",
    "    def __init__(self, n=6):\n",
    "        self.n = n\n",
    "        self.val = randrange(1, self.n + 1)\n",
    "        self.log = []\n",
    "        self.score = 0\n",
    "    \n",
    "    # 주사위 던지기 메서드\n",
    "    def throw(self):\n",
    "        self.val = randrange(1, self.n + 1)\n",
    "        self.log.append(self.val)\n",
    "        self.score += self.val\n",
    "    \n",
    "    # 총 몇면체인지 반환 메서드\n",
    "    def getn(self):\n",
    "        return self.n\n",
    "    \n",
    "    # 현재 주사위 값 반환 메서드\n",
    "    def getval(self):\n",
    "        return self.val\n",
    "    \n",
    "    # 현재 주사위 기록 반환 메서드\n",
    "    def getlog(self):\n",
    "        return self.log\n",
    "    \n",
    "    # 현재 주사위 점수 반환 메서드\n",
    "    def getscore(self):\n",
    "        return self.score\n",
    "\n",
    "# 10번 주사위를 굴려 점수를 출력하는 게임 구현 함수\n",
    "def dice_game():\n",
    "    print(\"Funny Dice Game 시작!\")\n",
    "    time.sleep(1)\n",
    "    \n",
    "    total_dice = int(input(\"주사위가 몇 면체인지 입력하세요: \"))\n",
    "    game_dice = FunnyDice(total_dice)\n",
    "    \n",
    "    clear_output(wait=True)\n",
    "    \n",
    "    for i in range(1, 11):\n",
    "        print(f\"주사위는 {game_dice.getn()} 면체\")\n",
    "        print(f\"{i} 번째 시도 \")\n",
    "        print(\"------------------------------\")\n",
    "        \n",
    "        time.sleep(1)\n",
    "        game_dice.throw()\n",
    "        print(f\"주사위를 던져 {game_dice.getval()}이 나왔습니다.\")\n",
    "        print(f\"현재 기록 : {game_dice.getlog()}\")\n",
    "        \n",
    "        input(\"계속하려면 엔터 키를 누르세요...\")\n",
    "        clear_output(wait=True)\n",
    "    \n",
    "    print(f\"게임 종료!\")\n",
    "    print(f\"최종 기록 : {game_dice.getlog()}\")\n",
    "    print(f\"최종 점수 : {game_dice.getscore()}점\")\n",
    "    print(f\"평균 점수 : {game_dice.getscore()/game_dice.getn()}점\")\n",
    "      \n",
    "if __name__ == \"__main__\":\n",
    "    dice_game()"
   ]
  }
 ],
 "metadata": {
  "kernelspec": {
   "display_name": "Python 3 (ipykernel)",
   "language": "python",
   "name": "python3"
  },
  "language_info": {
   "codemirror_mode": {
    "name": "ipython",
    "version": 3
   },
   "file_extension": ".py",
   "mimetype": "text/x-python",
   "name": "python",
   "nbconvert_exporter": "python",
   "pygments_lexer": "ipython3",
   "version": "3.9.7"
  }
 },
 "nbformat": 4,
 "nbformat_minor": 5
}
