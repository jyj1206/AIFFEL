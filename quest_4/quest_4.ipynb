{
 "cells": [
  {
   "cell_type": "markdown",
   "id": "fc475a99",
   "metadata": {},
   "source": [
    "# (프로젝트) 모두카페 꼼꼼히 살펴보기"
   ]
  },
  {
   "cell_type": "code",
   "execution_count": 1,
   "id": "64f7041c",
   "metadata": {},
   "outputs": [],
   "source": [
    "# 라이브러리 불러오기\n",
    "import pandas as pd\n",
    "import numpy as np\n",
    "import matplotlib.pyplot as plt\n",
    "import seaborn as sns\n",
    "plt.style.use('default')"
   ]
  },
  {
   "cell_type": "code",
   "execution_count": 2,
   "id": "35312dda",
   "metadata": {},
   "outputs": [
    {
     "name": "stdout",
     "output_type": "stream",
     "text": [
      "완료!\n"
     ]
    }
   ],
   "source": [
    "# 한글이 포함된 시각화를 위해 Matplotlib 설정\n",
    "import matplotlib as mpl\n",
    "import matplotlib.font_manager as fm\n",
    "\n",
    "fontpath = '/usr/share/fonts/truetype/nanum/NanumBarunGothic.ttf'\n",
    "font = fm.FontProperties(fname=fontpath, size=9)\n",
    "plt.rc('font', family='NanumBarunGothic') \n",
    "mpl.font_manager.findfont(font)\n",
    "print(\"완료!\")"
   ]
  },
  {
   "cell_type": "markdown",
   "id": "1c29265f",
   "metadata": {},
   "source": [
    "# 오류 디버깅 해결 결과\n",
    "### 기존 코드\n",
    "```python\n",
    "plt.rcParams['axes.unicode_minus'] = False\n",
    "custom_params = {\"axes.spines.right\": False, \"axes.spines.top\": False}\n",
    "sns.set_theme(context='notebook',style='darkgrid', palette='pastel', font='Malgun Gothic', rc=custom_params)\n",
    "```\n",
    "\n",
    "### 문제점\n",
    "기존코드로 한글화 패치를 진행한 결과, 주피터 노트북에서는 해당 코드가 적용되지 않아 위의 블록같이 수정하여 문제를 해결하였음"
   ]
  },
  {
   "cell_type": "code",
   "execution_count": 3,
   "id": "267a8756",
   "metadata": {},
   "outputs": [],
   "source": [
    "# 데이터 호출하기\n",
    "entry_data = pd.read_csv('/aiffel/data/entry_data.csv')\n",
    "sales_data = pd.read_csv('/aiffel/data/sales_data.csv')\n",
    "item_data = pd.read_csv('/aiffel/data/item_data.csv')\n",
    "item_entry_data = pd.read_csv('/aiffel/data/item_entry_data.csv')"
   ]
  },
  {
   "cell_type": "code",
   "execution_count": 4,
   "id": "6188dfa9",
   "metadata": {},
   "outputs": [
    {
     "data": {
      "text/html": [
       "<div>\n",
       "<style scoped>\n",
       "    .dataframe tbody tr th:only-of-type {\n",
       "        vertical-align: middle;\n",
       "    }\n",
       "\n",
       "    .dataframe tbody tr th {\n",
       "        vertical-align: top;\n",
       "    }\n",
       "\n",
       "    .dataframe thead th {\n",
       "        text-align: right;\n",
       "    }\n",
       "</style>\n",
       "<table border=\"1\" class=\"dataframe\">\n",
       "  <thead>\n",
       "    <tr style=\"text-align: right;\">\n",
       "      <th></th>\n",
       "      <th>요금제명</th>\n",
       "      <th>입실</th>\n",
       "      <th>퇴실</th>\n",
       "      <th>이용</th>\n",
       "      <th>위치</th>\n",
       "      <th>금액</th>\n",
       "      <th>구분</th>\n",
       "      <th>고객</th>\n",
       "    </tr>\n",
       "  </thead>\n",
       "  <tbody>\n",
       "    <tr>\n",
       "      <th>0</th>\n",
       "      <td>시간요금제(1시간)</td>\n",
       "      <td>2022-04-01 23:39</td>\n",
       "      <td>2022-04-02 0:39</td>\n",
       "      <td>오전 1:00:00</td>\n",
       "      <td>선불기2</td>\n",
       "      <td>3000</td>\n",
       "      <td>퇴실</td>\n",
       "      <td>customer263717</td>\n",
       "    </tr>\n",
       "    <tr>\n",
       "      <th>1</th>\n",
       "      <td>시간요금제(1시간)</td>\n",
       "      <td>2022-04-01 23:39</td>\n",
       "      <td>2022-04-02 0:39</td>\n",
       "      <td>오전 1:00:00</td>\n",
       "      <td>선불기2</td>\n",
       "      <td>3000</td>\n",
       "      <td>퇴실</td>\n",
       "      <td>customer263717</td>\n",
       "    </tr>\n",
       "    <tr>\n",
       "      <th>2</th>\n",
       "      <td>무제한 입장권</td>\n",
       "      <td>2022-04-01 20:55</td>\n",
       "      <td>2022-04-01 21:41</td>\n",
       "      <td>오전 12:46:00</td>\n",
       "      <td>선불기2</td>\n",
       "      <td>7400</td>\n",
       "      <td>퇴실</td>\n",
       "      <td>customer247263</td>\n",
       "    </tr>\n",
       "    <tr>\n",
       "      <th>3</th>\n",
       "      <td>무제한 입장권</td>\n",
       "      <td>2022-04-01 20:55</td>\n",
       "      <td>2022-04-01 21:41</td>\n",
       "      <td>오전 12:46:00</td>\n",
       "      <td>선불기2</td>\n",
       "      <td>7400</td>\n",
       "      <td>퇴실</td>\n",
       "      <td>customer247263</td>\n",
       "    </tr>\n",
       "    <tr>\n",
       "      <th>4</th>\n",
       "      <td>한국대생 무제한 입장권</td>\n",
       "      <td>2022-04-01 19:54</td>\n",
       "      <td>2022-04-01 22:28</td>\n",
       "      <td>오전 2:33:00</td>\n",
       "      <td>선불기2</td>\n",
       "      <td>7400</td>\n",
       "      <td>퇴실</td>\n",
       "      <td>customer388928</td>\n",
       "    </tr>\n",
       "  </tbody>\n",
       "</table>\n",
       "</div>"
      ],
      "text/plain": [
       "           요금제명                입실                퇴실           이용    위치    금액  \\\n",
       "0    시간요금제(1시간)  2022-04-01 23:39   2022-04-02 0:39   오전 1:00:00  선불기2  3000   \n",
       "1    시간요금제(1시간)  2022-04-01 23:39   2022-04-02 0:39   오전 1:00:00  선불기2  3000   \n",
       "2       무제한 입장권  2022-04-01 20:55  2022-04-01 21:41  오전 12:46:00  선불기2  7400   \n",
       "3       무제한 입장권  2022-04-01 20:55  2022-04-01 21:41  오전 12:46:00  선불기2  7400   \n",
       "4  한국대생 무제한 입장권  2022-04-01 19:54  2022-04-01 22:28   오전 2:33:00  선불기2  7400   \n",
       "\n",
       "   구분              고객  \n",
       "0  퇴실  customer263717  \n",
       "1  퇴실  customer263717  \n",
       "2  퇴실  customer247263  \n",
       "3  퇴실  customer247263  \n",
       "4  퇴실  customer388928  "
      ]
     },
     "execution_count": 4,
     "metadata": {},
     "output_type": "execute_result"
    }
   ],
   "source": [
    "# entry_data 데이터 정보 확인하기\n",
    "entry_data.head()"
   ]
  },
  {
   "cell_type": "code",
   "execution_count": 5,
   "id": "4771a43a",
   "metadata": {},
   "outputs": [
    {
     "data": {
      "text/html": [
       "<div>\n",
       "<style scoped>\n",
       "    .dataframe tbody tr th:only-of-type {\n",
       "        vertical-align: middle;\n",
       "    }\n",
       "\n",
       "    .dataframe tbody tr th {\n",
       "        vertical-align: top;\n",
       "    }\n",
       "\n",
       "    .dataframe thead th {\n",
       "        text-align: right;\n",
       "    }\n",
       "</style>\n",
       "<table border=\"1\" class=\"dataframe\">\n",
       "  <thead>\n",
       "    <tr style=\"text-align: right;\">\n",
       "      <th></th>\n",
       "      <th>결제일시</th>\n",
       "      <th>판매위치</th>\n",
       "      <th>상품명</th>\n",
       "      <th>결제방식</th>\n",
       "      <th>비고</th>\n",
       "      <th>판매수량</th>\n",
       "      <th>결제금액</th>\n",
       "      <th>고객</th>\n",
       "    </tr>\n",
       "  </thead>\n",
       "  <tbody>\n",
       "    <tr>\n",
       "      <th>0</th>\n",
       "      <td>2022-04-01 19:41</td>\n",
       "      <td>선불기1</td>\n",
       "      <td>치킨카라아케 6pc</td>\n",
       "      <td>신용카드</td>\n",
       "      <td>결제완료</td>\n",
       "      <td>1</td>\n",
       "      <td>4,500</td>\n",
       "      <td>customer275507</td>\n",
       "    </tr>\n",
       "    <tr>\n",
       "      <th>1</th>\n",
       "      <td>2022-04-01 19:41</td>\n",
       "      <td>선불기1</td>\n",
       "      <td>짜장라면(계란추가)</td>\n",
       "      <td>신용카드</td>\n",
       "      <td>결제완료</td>\n",
       "      <td>1</td>\n",
       "      <td>5,500</td>\n",
       "      <td>customer275507</td>\n",
       "    </tr>\n",
       "    <tr>\n",
       "      <th>2</th>\n",
       "      <td>2022-04-01 19:41</td>\n",
       "      <td>선불기1</td>\n",
       "      <td>라면</td>\n",
       "      <td>신용카드</td>\n",
       "      <td>결제완료</td>\n",
       "      <td>1</td>\n",
       "      <td>4,000</td>\n",
       "      <td>customer275507</td>\n",
       "    </tr>\n",
       "    <tr>\n",
       "      <th>3</th>\n",
       "      <td>2022-04-01 19:41</td>\n",
       "      <td>선불기1</td>\n",
       "      <td>비엔나소세지(토핑)</td>\n",
       "      <td>신용카드</td>\n",
       "      <td>결제완료</td>\n",
       "      <td>1</td>\n",
       "      <td>1,000</td>\n",
       "      <td>customer275507</td>\n",
       "    </tr>\n",
       "    <tr>\n",
       "      <th>4</th>\n",
       "      <td>2022-04-01 19:41</td>\n",
       "      <td>선불기1</td>\n",
       "      <td>라면(계란/치즈추가)</td>\n",
       "      <td>신용카드</td>\n",
       "      <td>결제완료</td>\n",
       "      <td>1</td>\n",
       "      <td>5,000</td>\n",
       "      <td>customer275507</td>\n",
       "    </tr>\n",
       "  </tbody>\n",
       "</table>\n",
       "</div>"
      ],
      "text/plain": [
       "               결제일시  판매위치          상품명  결제방식    비고  판매수량   결제금액  \\\n",
       "0  2022-04-01 19:41  선불기1   치킨카라아케 6pc  신용카드  결제완료     1  4,500   \n",
       "1  2022-04-01 19:41  선불기1   짜장라면(계란추가)  신용카드  결제완료     1  5,500   \n",
       "2  2022-04-01 19:41  선불기1           라면  신용카드  결제완료     1  4,000   \n",
       "3  2022-04-01 19:41  선불기1   비엔나소세지(토핑)  신용카드  결제완료     1  1,000   \n",
       "4  2022-04-01 19:41  선불기1  라면(계란/치즈추가)  신용카드  결제완료     1  5,000   \n",
       "\n",
       "               고객  \n",
       "0  customer275507  \n",
       "1  customer275507  \n",
       "2  customer275507  \n",
       "3  customer275507  \n",
       "4  customer275507  "
      ]
     },
     "execution_count": 5,
     "metadata": {},
     "output_type": "execute_result"
    }
   ],
   "source": [
    "# sales_data 데이터 정보 확인하기\n",
    "sales_data.head()"
   ]
  },
  {
   "cell_type": "code",
   "execution_count": 6,
   "id": "a44cc0a5",
   "metadata": {},
   "outputs": [
    {
     "data": {
      "text/html": [
       "<div>\n",
       "<style scoped>\n",
       "    .dataframe tbody tr th:only-of-type {\n",
       "        vertical-align: middle;\n",
       "    }\n",
       "\n",
       "    .dataframe tbody tr th {\n",
       "        vertical-align: top;\n",
       "    }\n",
       "\n",
       "    .dataframe thead th {\n",
       "        text-align: right;\n",
       "    }\n",
       "</style>\n",
       "<table border=\"1\" class=\"dataframe\">\n",
       "  <thead>\n",
       "    <tr style=\"text-align: right;\">\n",
       "      <th></th>\n",
       "      <th>구분</th>\n",
       "      <th>분류</th>\n",
       "      <th>상품명</th>\n",
       "      <th>판매금액</th>\n",
       "    </tr>\n",
       "  </thead>\n",
       "  <tbody>\n",
       "    <tr>\n",
       "      <th>0</th>\n",
       "      <td>1</td>\n",
       "      <td>게임&amp;TV</td>\n",
       "      <td>이어폰(커널형)</td>\n",
       "      <td>3,000원</td>\n",
       "    </tr>\n",
       "    <tr>\n",
       "      <th>1</th>\n",
       "      <td>2</td>\n",
       "      <td>디저트</td>\n",
       "      <td>초코머핀</td>\n",
       "      <td>3,500원</td>\n",
       "    </tr>\n",
       "    <tr>\n",
       "      <th>2</th>\n",
       "      <td>3</td>\n",
       "      <td>디저트</td>\n",
       "      <td>쿠키(초코칩)</td>\n",
       "      <td>1,500원</td>\n",
       "    </tr>\n",
       "    <tr>\n",
       "      <th>3</th>\n",
       "      <td>4</td>\n",
       "      <td>디저트</td>\n",
       "      <td>쿠키(마카다미아)</td>\n",
       "      <td>1,500원</td>\n",
       "    </tr>\n",
       "    <tr>\n",
       "      <th>4</th>\n",
       "      <td>5</td>\n",
       "      <td>디저트</td>\n",
       "      <td>미니마카롱(3개)</td>\n",
       "      <td>2,000원</td>\n",
       "    </tr>\n",
       "  </tbody>\n",
       "</table>\n",
       "</div>"
      ],
      "text/plain": [
       "   구분     분류        상품명    판매금액\n",
       "0   1  게임&TV   이어폰(커널형)  3,000원\n",
       "1   2    디저트       초코머핀  3,500원\n",
       "2   3    디저트    쿠키(초코칩)  1,500원\n",
       "3   4    디저트  쿠키(마카다미아)  1,500원\n",
       "4   5    디저트  미니마카롱(3개)  2,000원"
      ]
     },
     "execution_count": 6,
     "metadata": {},
     "output_type": "execute_result"
    }
   ],
   "source": [
    "# item_data 데이터 정보 확인하기\n",
    "item_data.head()"
   ]
  },
  {
   "cell_type": "code",
   "execution_count": 7,
   "id": "6247a788",
   "metadata": {},
   "outputs": [
    {
     "data": {
      "text/html": [
       "<div>\n",
       "<style scoped>\n",
       "    .dataframe tbody tr th:only-of-type {\n",
       "        vertical-align: middle;\n",
       "    }\n",
       "\n",
       "    .dataframe tbody tr th {\n",
       "        vertical-align: top;\n",
       "    }\n",
       "\n",
       "    .dataframe thead th {\n",
       "        text-align: right;\n",
       "    }\n",
       "</style>\n",
       "<table border=\"1\" class=\"dataframe\">\n",
       "  <thead>\n",
       "    <tr style=\"text-align: right;\">\n",
       "      <th></th>\n",
       "      <th>순위</th>\n",
       "      <th>분류</th>\n",
       "      <th>상품명</th>\n",
       "      <th>판매금액</th>\n",
       "    </tr>\n",
       "  </thead>\n",
       "  <tbody>\n",
       "    <tr>\n",
       "      <th>0</th>\n",
       "      <td>1</td>\n",
       "      <td>한국대생</td>\n",
       "      <td>한국대생 요금제</td>\n",
       "      <td>2,000원</td>\n",
       "    </tr>\n",
       "    <tr>\n",
       "      <th>1</th>\n",
       "      <td>2</td>\n",
       "      <td>심야-조조</td>\n",
       "      <td>심야-조조 요금제</td>\n",
       "      <td>5,000원</td>\n",
       "    </tr>\n",
       "    <tr>\n",
       "      <th>2</th>\n",
       "      <td>3</td>\n",
       "      <td>일반인</td>\n",
       "      <td>일반요금제</td>\n",
       "      <td>2,500원</td>\n",
       "    </tr>\n",
       "    <tr>\n",
       "      <th>3</th>\n",
       "      <td>4</td>\n",
       "      <td>한국대생</td>\n",
       "      <td>한국대생 요금제</td>\n",
       "      <td>2,500원</td>\n",
       "    </tr>\n",
       "    <tr>\n",
       "      <th>4</th>\n",
       "      <td>5</td>\n",
       "      <td>일반인</td>\n",
       "      <td>일반요금제</td>\n",
       "      <td>2,000원</td>\n",
       "    </tr>\n",
       "  </tbody>\n",
       "</table>\n",
       "</div>"
      ],
      "text/plain": [
       "   순위     분류        상품명    판매금액\n",
       "0   1   한국대생   한국대생 요금제  2,000원\n",
       "1   2  심야-조조  심야-조조 요금제  5,000원\n",
       "2   3    일반인      일반요금제  2,500원\n",
       "3   4   한국대생   한국대생 요금제  2,500원\n",
       "4   5    일반인      일반요금제  2,000원"
      ]
     },
     "execution_count": 7,
     "metadata": {},
     "output_type": "execute_result"
    }
   ],
   "source": [
    "# itementry_data 데이터 정보 확인하기\n",
    "item_entry_data.head()"
   ]
  },
  {
   "cell_type": "markdown",
   "id": "98cc9304",
   "metadata": {},
   "source": [
    "## 1. 월별 매출액 추세 분석하기"
   ]
  },
  {
   "cell_type": "code",
   "execution_count": 8,
   "id": "9274076e",
   "metadata": {},
   "outputs": [
    {
     "data": {
      "text/html": [
       "<div>\n",
       "<style scoped>\n",
       "    .dataframe tbody tr th:only-of-type {\n",
       "        vertical-align: middle;\n",
       "    }\n",
       "\n",
       "    .dataframe tbody tr th {\n",
       "        vertical-align: top;\n",
       "    }\n",
       "\n",
       "    .dataframe thead th {\n",
       "        text-align: right;\n",
       "    }\n",
       "</style>\n",
       "<table border=\"1\" class=\"dataframe\">\n",
       "  <thead>\n",
       "    <tr style=\"text-align: right;\">\n",
       "      <th></th>\n",
       "      <th>결제일시</th>\n",
       "      <th>판매위치</th>\n",
       "      <th>상품명</th>\n",
       "      <th>결제방식</th>\n",
       "      <th>비고</th>\n",
       "      <th>판매수량</th>\n",
       "      <th>결제금액</th>\n",
       "      <th>고객</th>\n",
       "      <th>date</th>\n",
       "    </tr>\n",
       "  </thead>\n",
       "  <tbody>\n",
       "    <tr>\n",
       "      <th>0</th>\n",
       "      <td>2022-04-01 19:41</td>\n",
       "      <td>선불기1</td>\n",
       "      <td>치킨카라아케 6pc</td>\n",
       "      <td>신용카드</td>\n",
       "      <td>결제완료</td>\n",
       "      <td>1</td>\n",
       "      <td>4,500</td>\n",
       "      <td>customer275507</td>\n",
       "      <td>2022-04</td>\n",
       "    </tr>\n",
       "    <tr>\n",
       "      <th>1</th>\n",
       "      <td>2022-04-01 19:41</td>\n",
       "      <td>선불기1</td>\n",
       "      <td>짜장라면(계란추가)</td>\n",
       "      <td>신용카드</td>\n",
       "      <td>결제완료</td>\n",
       "      <td>1</td>\n",
       "      <td>5,500</td>\n",
       "      <td>customer275507</td>\n",
       "      <td>2022-04</td>\n",
       "    </tr>\n",
       "    <tr>\n",
       "      <th>2</th>\n",
       "      <td>2022-04-01 19:41</td>\n",
       "      <td>선불기1</td>\n",
       "      <td>라면</td>\n",
       "      <td>신용카드</td>\n",
       "      <td>결제완료</td>\n",
       "      <td>1</td>\n",
       "      <td>4,000</td>\n",
       "      <td>customer275507</td>\n",
       "      <td>2022-04</td>\n",
       "    </tr>\n",
       "    <tr>\n",
       "      <th>3</th>\n",
       "      <td>2022-04-01 19:41</td>\n",
       "      <td>선불기1</td>\n",
       "      <td>비엔나소세지(토핑)</td>\n",
       "      <td>신용카드</td>\n",
       "      <td>결제완료</td>\n",
       "      <td>1</td>\n",
       "      <td>1,000</td>\n",
       "      <td>customer275507</td>\n",
       "      <td>2022-04</td>\n",
       "    </tr>\n",
       "    <tr>\n",
       "      <th>4</th>\n",
       "      <td>2022-04-01 19:41</td>\n",
       "      <td>선불기1</td>\n",
       "      <td>라면(계란/치즈추가)</td>\n",
       "      <td>신용카드</td>\n",
       "      <td>결제완료</td>\n",
       "      <td>1</td>\n",
       "      <td>5,000</td>\n",
       "      <td>customer275507</td>\n",
       "      <td>2022-04</td>\n",
       "    </tr>\n",
       "  </tbody>\n",
       "</table>\n",
       "</div>"
      ],
      "text/plain": [
       "               결제일시  판매위치          상품명  결제방식    비고  판매수량   결제금액  \\\n",
       "0  2022-04-01 19:41  선불기1   치킨카라아케 6pc  신용카드  결제완료     1  4,500   \n",
       "1  2022-04-01 19:41  선불기1   짜장라면(계란추가)  신용카드  결제완료     1  5,500   \n",
       "2  2022-04-01 19:41  선불기1           라면  신용카드  결제완료     1  4,000   \n",
       "3  2022-04-01 19:41  선불기1   비엔나소세지(토핑)  신용카드  결제완료     1  1,000   \n",
       "4  2022-04-01 19:41  선불기1  라면(계란/치즈추가)  신용카드  결제완료     1  5,000   \n",
       "\n",
       "               고객     date  \n",
       "0  customer275507  2022-04  \n",
       "1  customer275507  2022-04  \n",
       "2  customer275507  2022-04  \n",
       "3  customer275507  2022-04  \n",
       "4  customer275507  2022-04  "
      ]
     },
     "execution_count": 8,
     "metadata": {},
     "output_type": "execute_result"
    }
   ],
   "source": [
    "# temp_var 변수 지정하기\n",
    "temp_var = sales_data.copy()\n",
    "\n",
    "# date(년도-월) 열 지정하기\n",
    "temp_var['date'] = sales_data['결제일시'].str[:7]\n",
    "temp_var.head(5)"
   ]
  },
  {
   "cell_type": "code",
   "execution_count": 9,
   "id": "1e1d5d26",
   "metadata": {},
   "outputs": [],
   "source": [
    "# 결제금액 , 지우기\n",
    "temp_var['결제금액'] = sales_data['결제금액'].str.replace(',','')\n",
    "\n",
    "# 결제금액 숫자 형태로 바꾸기\n",
    "temp_var['결제금액'] = temp_var['결제금액'].astype('int')\n",
    "\n",
    "# 결제금액을 날짜 기준으로 집계\n",
    "payment_data = temp_var['결제금액'].groupby(temp_var['date']).sum()"
   ]
  },
  {
   "cell_type": "code",
   "execution_count": 10,
   "id": "d3e48ebe",
   "metadata": {},
   "outputs": [
    {
     "data": {
      "text/plain": [
       "date\n",
       "2021-02       7000\n",
       "2021-03    2104500\n",
       "2021-04    3116600\n",
       "2021-05    2537000\n",
       "2021-06    3621500\n",
       "2021-07    1215000\n",
       "2021-08    1229000\n",
       "2021-09    1197500\n",
       "2021-10    2138500\n",
       "2021-11    2748500\n",
       "2021-12    3290000\n",
       "2022-01    1430500\n",
       "2022-02    1181500\n",
       "2022-03    1870900\n",
       "2022-04      49900\n",
       "Name: 결제금액, dtype: int64"
      ]
     },
     "execution_count": 10,
     "metadata": {},
     "output_type": "execute_result"
    }
   ],
   "source": [
    "payment_data"
   ]
  },
  {
   "cell_type": "code",
   "execution_count": 11,
   "id": "2ef30b3e",
   "metadata": {},
   "outputs": [
    {
     "data": {
      "image/png": "[encoded data removed]",
      "text/plain": [
       "<Figure size 1000x600 with 1 Axes>"
      ]
     },
     "metadata": {},
     "output_type": "display_data"
    }
   ],
   "source": [
    "# 시각화 하기\n",
    "plt.figure(figsize = (10, 6))\n",
    "sns.barplot(data = payment_data.reset_index(), x = \"date\", y = \"결제금액\")\n",
    "plt.xlabel(\"날짜\")\n",
    "plt.ylabel(\"결제 금액 총합\")\n",
    "plt.title(\"날짜별 매출액 총합\")\n",
    "plt.xticks(rotation = 90)\n",
    "plt.show()"
   ]
  },
  {
   "cell_type": "markdown",
   "id": "405088ec",
   "metadata": {},
   "source": [
    "### 분석결과\n",
    "- 2021-07 ~ 2021-09 : 대학생들이 방학이므로 계절학기를 듣는 인원으로 제한되어서 이용률이 적음\n",
    "- 2021-03 ~ 2021-06, 2021-10 ~ 2021-12 : 대학생 학기중이므로 이용률이 큼"
   ]
  },
  {
   "cell_type": "markdown",
   "id": "6491a960",
   "metadata": {},
   "source": [
    "## 2. 가장 인기 있는 음식/음료"
   ]
  },
  {
   "cell_type": "code",
   "execution_count": 12,
   "id": "53139e74",
   "metadata": {},
   "outputs": [
    {
     "data": {
      "text/html": [
       "<div>\n",
       "<style scoped>\n",
       "    .dataframe tbody tr th:only-of-type {\n",
       "        vertical-align: middle;\n",
       "    }\n",
       "\n",
       "    .dataframe tbody tr th {\n",
       "        vertical-align: top;\n",
       "    }\n",
       "\n",
       "    .dataframe thead th {\n",
       "        text-align: right;\n",
       "    }\n",
       "</style>\n",
       "<table border=\"1\" class=\"dataframe\">\n",
       "  <thead>\n",
       "    <tr style=\"text-align: right;\">\n",
       "      <th></th>\n",
       "      <th>상품명</th>\n",
       "    </tr>\n",
       "  </thead>\n",
       "  <tbody>\n",
       "    <tr>\n",
       "      <th>김치볶음밥</th>\n",
       "      <td>1204</td>\n",
       "    </tr>\n",
       "    <tr>\n",
       "      <th>라면</th>\n",
       "      <td>749</td>\n",
       "    </tr>\n",
       "    <tr>\n",
       "      <th>짜장라면</th>\n",
       "      <td>455</td>\n",
       "    </tr>\n",
       "    <tr>\n",
       "      <th>치즈불고기볶음밥</th>\n",
       "      <td>420</td>\n",
       "    </tr>\n",
       "    <tr>\n",
       "      <th>계란추가</th>\n",
       "      <td>314</td>\n",
       "    </tr>\n",
       "    <tr>\n",
       "      <th>낙지볶음밥</th>\n",
       "      <td>312</td>\n",
       "    </tr>\n",
       "    <tr>\n",
       "      <th>새우볶음밥</th>\n",
       "      <td>309</td>\n",
       "    </tr>\n",
       "    <tr>\n",
       "      <th>아메리카노(ICE)</th>\n",
       "      <td>284</td>\n",
       "    </tr>\n",
       "    <tr>\n",
       "      <th>치즈감자튀김</th>\n",
       "      <td>246</td>\n",
       "    </tr>\n",
       "    <tr>\n",
       "      <th>감자튀김</th>\n",
       "      <td>242</td>\n",
       "    </tr>\n",
       "  </tbody>\n",
       "</table>\n",
       "</div>"
      ],
      "text/plain": [
       "             상품명\n",
       "김치볶음밥       1204\n",
       "라면           749\n",
       "짜장라면         455\n",
       "치즈불고기볶음밥     420\n",
       "계란추가         314\n",
       "낙지볶음밥        312\n",
       "새우볶음밥        309\n",
       "아메리카노(ICE)   284\n",
       "치즈감자튀김       246\n",
       "감자튀김         242"
      ]
     },
     "execution_count": 12,
     "metadata": {},
     "output_type": "execute_result"
    }
   ],
   "source": [
    "# temp_var 변수 저장\n",
    "temp_var = temp_var[temp_var['판매수량'] > -1]\n",
    "\n",
    "# 상품별로 집계하기\n",
    "items_count = temp_var['상품명'].value_counts()\n",
    "\n",
    "# 데이터 프레임으로 변환하기\n",
    "items_count = pd.DataFrame(items_count)\n",
    "\n",
    "items_count = items_count.head(10)\n",
    "\n",
    "items_count"
   ]
  },
  {
   "cell_type": "code",
   "execution_count": 13,
   "id": "c6a65cbc",
   "metadata": {},
   "outputs": [
    {
     "data": {
      "image/png": "[encoded data removed]",
      "text/plain": [
       "<Figure size 1000x600 with 1 Axes>"
      ]
     },
     "metadata": {},
     "output_type": "display_data"
    }
   ],
   "source": [
    "# 시각화 하기\n",
    "plt.figure(figsize = (10, 6))\n",
    "sns.barplot(data = items_count.reset_index(), x = items_count.index, y = \"상품명\")\n",
    "plt.xlabel(\"상품명\")\n",
    "plt.ylabel(\"판매개수\")\n",
    "plt.title(\"상품별 판매개수 총합 (Top 10)\")\n",
    "plt.xticks(rotation = 90)\n",
    "plt.show()"
   ]
  },
  {
   "cell_type": "code",
   "execution_count": 14,
   "id": "e704833a",
   "metadata": {},
   "outputs": [
    {
     "data": {
      "text/plain": [
       "상품명\n",
       "김치볶음밥         6004400\n",
       "라면            2941500\n",
       "치즈불고기볶음밥      2292600\n",
       "짜장라면          2038500\n",
       "낙지볶음밥         1710700\n",
       "새우볶음밥         1539800\n",
       "치즈감자튀김        1354200\n",
       "감자튀김          1083800\n",
       "아메리카노(ICE)    1058100\n",
       "불닭볶음면          693000\n",
       "Name: 결제금액, dtype: int64"
      ]
     },
     "execution_count": 14,
     "metadata": {},
     "output_type": "execute_result"
    }
   ],
   "source": [
    "# temp_var 판매금액열을 상품 기준으로 집계\n",
    "items_payment = temp_var['결제금액'].groupby(temp_var['상품명']).sum()\n",
    "\n",
    "# 상위 10개 이므로 내림차순 정렬\n",
    "items_payment = items_payment.sort_values(ascending = False)\n",
    "\n",
    "items_payment = items_payment.head(10)\n",
    "\n",
    "items_payment"
   ]
  },
  {
   "cell_type": "code",
   "execution_count": 15,
   "id": "68cb83c3",
   "metadata": {},
   "outputs": [
    {
     "data": {
      "image/png": "[encoded data removed]",
      "text/plain": [
       "<Figure size 1000x600 with 1 Axes>"
      ]
     },
     "metadata": {},
     "output_type": "display_data"
    }
   ],
   "source": [
    "# 시각화 하기\n",
    "plt.figure(figsize = (10, 6))\n",
    "sns.barplot(data = items_payment.reset_index(), x = \"상품명\", y = \"결제금액\")\n",
    "plt.xlabel(\"상품명\")\n",
    "plt.ylabel(\"판매금액 총합\")\n",
    "plt.title(\"상품별 판매금액 총합 (Top 10)\")\n",
    "plt.xticks(rotation = 90)\n",
    "plt.show()"
   ]
  },
  {
   "cell_type": "markdown",
   "id": "fcf7d829",
   "metadata": {},
   "source": [
    "### 분석 결과\n",
    "- 상품별 판매개수와 총 판매금액을 보았을때 밥류 상위 Top 10에 많이 존재하는 것으로 분석되었다.\n",
    "- 세트 메뉴를 만들어 밥과 음료를 같이 파는 전략도 좋을 것 같다."
   ]
  },
  {
   "cell_type": "markdown",
   "id": "3cc72660",
   "metadata": {},
   "source": [
    "## 3.  가장 많이 팔린 입장권 종류"
   ]
  },
  {
   "cell_type": "code",
   "execution_count": 16,
   "id": "067c258f",
   "metadata": {},
   "outputs": [
    {
     "name": "stdout",
     "output_type": "stream",
     "text": [
      "<class 'pandas.core.frame.DataFrame'>\n",
      "RangeIndex: 22555 entries, 0 to 22554\n",
      "Data columns (total 8 columns):\n",
      " #   Column  Non-Null Count  Dtype \n",
      "---  ------  --------------  ----- \n",
      " 0   요금제명    22292 non-null  object\n",
      " 1   입실      22555 non-null  object\n",
      " 2   퇴실      22555 non-null  object\n",
      " 3   이용      22533 non-null  object\n",
      " 4   위치      22555 non-null  object\n",
      " 5   금액      22555 non-null  int64 \n",
      " 6   구분      22555 non-null  object\n",
      " 7   고객      22555 non-null  object\n",
      "dtypes: int64(1), object(7)\n",
      "memory usage: 1.4+ MB\n"
     ]
    }
   ],
   "source": [
    "# temp_var 변수 저장\n",
    "temp_var = entry_data.copy()\n",
    "\n",
    "temp_var.info()"
   ]
  },
  {
   "cell_type": "code",
   "execution_count": 17,
   "id": "8a44d8f0",
   "metadata": {},
   "outputs": [
    {
     "data": {
      "text/plain": [
       "요금제명\n",
       "한국대생 입장권(종일권)      70037000\n",
       "입장권(종일권)           23570500\n",
       "심야-조조무제한(06시까지)    11600000\n",
       "심야-조조무제한            6221000\n",
       "한국대생 무제한 입장권        5207500\n",
       "시간요금제(1시간)          2665500\n",
       "시간요금제(3시간)          2042000\n",
       "무제한 입장권             1568600\n",
       "18시이후 무제한           1330500\n",
       "조조무제한                693000\n",
       "Name: 금액, dtype: int64"
      ]
     },
     "execution_count": 17,
     "metadata": {},
     "output_type": "execute_result"
    }
   ],
   "source": [
    "# 요금제명 기준으로 판매금액 총합 집계\n",
    "tickets_payment = temp_var['금액'].groupby(temp_var['요금제명']).sum()\n",
    "\n",
    "# 상위 10개 이므로 내림차순 정렬\n",
    "tickets_payment = tickets_payment.sort_values(ascending = False)\n",
    "\n",
    "tickets_payment = tickets_payment.head(10)\n",
    "\n",
    "tickets_payment"
   ]
  },
  {
   "cell_type": "code",
   "execution_count": 18,
   "id": "e94eb8d2",
   "metadata": {},
   "outputs": [
    {
     "data": {
      "image/png": "[encoded data removed]",
      "text/plain": [
       "<Figure size 1000x600 with 1 Axes>"
      ]
     },
     "metadata": {},
     "output_type": "display_data"
    }
   ],
   "source": [
    "# 시각화 하기\n",
    "plt.figure(figsize = (10, 6))\n",
    "sns.barplot(data = tickets_payment.reset_index(), x = \"요금제명\", y = \"금액\")\n",
    "plt.xlabel(\"요금제명\")\n",
    "plt.ylabel(\"금액 총합\")\n",
    "plt.title(\"요금제별 금액 총합 (Top 10)\")\n",
    "plt.xticks(rotation = 90)\n",
    "plt.show()"
   ]
  },
  {
   "cell_type": "markdown",
   "id": "908dc229",
   "metadata": {},
   "source": [
    "### 분석결과\n",
    "- 한국대생 입장권이 가장 많은 비율을 차지한 것으로 보아 한국대 앞에 있는 카페로 추측된다.\n",
    "- 단골 코드를 만들어 쿠폰을 제공하는 등의 프로모션을 만든다면 단골 층 확보에 도움이 될 것 같다.\n",
    "- 방학기간인 계절학기에 수요가 적기 때문에 할인이나, 서비스 제공을 통해 방문률은 높인다."
   ]
  },
  {
   "cell_type": "markdown",
   "id": "ed8b0d9c",
   "metadata": {},
   "source": [
    "## 내가 정의한 문제 해결하기\n",
    "## 최우수 고객 선정하기 (입장권 지불 가격 + 음식/음료 지불 가격을 기준으로 산정)"
   ]
  },
  {
   "cell_type": "code",
   "execution_count": 19,
   "id": "f2094eec",
   "metadata": {},
   "outputs": [
    {
     "data": {
      "text/plain": [
       "False    19321\n",
       "True      3234\n",
       "dtype: int64"
      ]
     },
     "execution_count": 19,
     "metadata": {},
     "output_type": "execute_result"
    }
   ],
   "source": [
    "# 고객 입장 데이터 중복 확인하기 \n",
    "entry_data.duplicated().value_counts()"
   ]
  },
  {
   "cell_type": "code",
   "execution_count": 20,
   "id": "9b0cd9c1",
   "metadata": {},
   "outputs": [
    {
     "name": "stdout",
     "output_type": "stream",
     "text": [
      "중복 제거 전 고객 입장 데이터 수 22555\n",
      "중복 제거 후 고객 입장 데이터 수 19321\n"
     ]
    },
    {
     "data": {
      "text/plain": [
       "고객\n",
       "customer010407     7000\n",
       "customer014003     6000\n",
       "customer014109     2500\n",
       "customer016604     5000\n",
       "customer017109    11500\n",
       "Name: 금액, dtype: int64"
      ]
     },
     "execution_count": 20,
     "metadata": {},
     "output_type": "execute_result"
    }
   ],
   "source": [
    "# 고객 입장 데이터 중복 제거하기\n",
    "entry_payment = entry_data.copy()\n",
    "entry_payment.drop_duplicates(inplace = True)\n",
    "print(f\"중복 제거 전 고객 입장 데이터 수 {len(entry_data)}\")\n",
    "print(f\"중복 제거 후 고객 입장 데이터 수 {len(entry_payment)}\")\n",
    "\n",
    "# 무료 입장 데이터 제거하기\n",
    "entry_payment = entry_payment[entry_payment['금액'] != 0]\n",
    "\n",
    "# 각 고객이 지불한 입장 금액 총합 계산\n",
    "entry_payments = entry_payment['금액'].groupby(entry_payment['고객']).sum()\n",
    "\n",
    "# 번호가 없는 customer 제거\n",
    "entry_payments.drop('customer', inplace = True)\n",
    "\n",
    "entry_payments.head(5)"
   ]
  },
  {
   "cell_type": "code",
   "execution_count": 21,
   "id": "f89ad55d",
   "metadata": {},
   "outputs": [
    {
     "data": {
      "text/plain": [
       "False    6671\n",
       "True      434\n",
       "dtype: int64"
      ]
     },
     "execution_count": 21,
     "metadata": {},
     "output_type": "execute_result"
    }
   ],
   "source": [
    "# 음식/음료 판매 데이터 중복 확인하기 \n",
    "sales_data.duplicated().value_counts()"
   ]
  },
  {
   "cell_type": "code",
   "execution_count": 22,
   "id": "b3c513b9",
   "metadata": {},
   "outputs": [
    {
     "name": "stdout",
     "output_type": "stream",
     "text": [
      "중복 제거 전 고객 음식/음료 판매 데이터 수 7105\n",
      "중복 제거 후 고객 음식/음료 판매 데이터 수 6671\n"
     ]
    },
    {
     "data": {
      "text/plain": [
       "고객\n",
       "customer016004     4000\n",
       "customer111111     4000\n",
       "customer200167     9000\n",
       "customer200188     8500\n",
       "customer200285    52000\n",
       "Name: 결제금액, dtype: int64"
      ]
     },
     "execution_count": 22,
     "metadata": {},
     "output_type": "execute_result"
    }
   ],
   "source": [
    "# 음식/음료 판매 데이터 중복 제거하기\n",
    "sales_payment = sales_data.copy()\n",
    "sales_payment.drop_duplicates(inplace = True)\n",
    "print(f\"중복 제거 전 고객 음식/음료 판매 데이터 수 {len(sales_data)}\")\n",
    "print(f\"중복 제거 후 고객 음식/음료 판매 데이터 수 {len(sales_payment)}\")\n",
    "\n",
    "# sales_payment의 결제금액에 포함된 쉼표(,) 지우기\n",
    "sales_payment['결제금액'] = sales_payment['결제금액'].str.replace(\",\",\"\")\n",
    "\n",
    "# sales_payment의 결제금액을 숫자형태로 바꾸기\n",
    "sales_payment['결제금액'] = sales_payment['결제금액'].astype(int)\n",
    "\n",
    "# 각 고객이 지불한 음식/음료 금액 총합 계산\n",
    "sales_payments = sales_payment['결제금액'].groupby(sales_payment['고객']).sum()\n",
    "\n",
    "sales_payments.head(5)"
   ]
  },
  {
   "cell_type": "code",
   "execution_count": 23,
   "id": "49553f0d",
   "metadata": {},
   "outputs": [
    {
     "data": {
      "text/html": [
       "<div>\n",
       "<style scoped>\n",
       "    .dataframe tbody tr th:only-of-type {\n",
       "        vertical-align: middle;\n",
       "    }\n",
       "\n",
       "    .dataframe tbody tr th {\n",
       "        vertical-align: top;\n",
       "    }\n",
       "\n",
       "    .dataframe thead th {\n",
       "        text-align: right;\n",
       "    }\n",
       "</style>\n",
       "<table border=\"1\" class=\"dataframe\">\n",
       "  <thead>\n",
       "    <tr style=\"text-align: right;\">\n",
       "      <th></th>\n",
       "      <th>입장권 결제금액</th>\n",
       "      <th>음식/음료 결제금액</th>\n",
       "    </tr>\n",
       "    <tr>\n",
       "      <th>고객</th>\n",
       "      <th></th>\n",
       "      <th></th>\n",
       "    </tr>\n",
       "  </thead>\n",
       "  <tbody>\n",
       "    <tr>\n",
       "      <th>customer010407</th>\n",
       "      <td>7000</td>\n",
       "      <td>NaN</td>\n",
       "    </tr>\n",
       "    <tr>\n",
       "      <th>customer014003</th>\n",
       "      <td>6000</td>\n",
       "      <td>NaN</td>\n",
       "    </tr>\n",
       "    <tr>\n",
       "      <th>customer014109</th>\n",
       "      <td>2500</td>\n",
       "      <td>NaN</td>\n",
       "    </tr>\n",
       "    <tr>\n",
       "      <th>customer016604</th>\n",
       "      <td>5000</td>\n",
       "      <td>NaN</td>\n",
       "    </tr>\n",
       "    <tr>\n",
       "      <th>customer017109</th>\n",
       "      <td>11500</td>\n",
       "      <td>NaN</td>\n",
       "    </tr>\n",
       "  </tbody>\n",
       "</table>\n",
       "</div>"
      ],
      "text/plain": [
       "                입장권 결제금액  음식/음료 결제금액\n",
       "고객                                  \n",
       "customer010407      7000         NaN\n",
       "customer014003      6000         NaN\n",
       "customer014109      2500         NaN\n",
       "customer016604      5000         NaN\n",
       "customer017109     11500         NaN"
      ]
     },
     "execution_count": 23,
     "metadata": {},
     "output_type": "execute_result"
    }
   ],
   "source": [
    "# merge를 위해 데이터 프레임 형태로 변환\n",
    "df_entry_payments = entry_payments.reset_index(name = \"입장권 결제금액\")\n",
    "df_sales_payments = sales_payments.reset_index(name = \"음식/음료 결제금액\")\n",
    "\n",
    "# '고객' 열을 기준으로 두 데이터셋을 병합 (left join)\n",
    "merged_data = df_entry_payments.merge(df_sales_payments, on='고객', how='left').set_index(\"고객\")\n",
    "merged_data.head()"
   ]
  },
  {
   "cell_type": "code",
   "execution_count": 24,
   "id": "0d28ed41",
   "metadata": {},
   "outputs": [
    {
     "name": "stdout",
     "output_type": "stream",
     "text": [
      "입장권 결제금액         0\n",
      "음식/음료 결제금액    3561\n",
      "dtype: int64\n"
     ]
    }
   ],
   "source": [
    "# 결측치 확인\n",
    "print(merged_data.isna().sum())\n",
    "\n",
    "# 결측치 0으로 채우기\n",
    "merged_data.fillna(0, inplace = True)\n",
    "\n",
    "# 음식/음료 결제금액 정수형태로 변환\n",
    "merged_data['음식/음료 결제금액'] = merged_data['음식/음료 결제금액'].astype(int)"
   ]
  },
  {
   "cell_type": "code",
   "execution_count": 25,
   "id": "60e93808",
   "metadata": {},
   "outputs": [
    {
     "data": {
      "text/html": [
       "<div>\n",
       "<style scoped>\n",
       "    .dataframe tbody tr th:only-of-type {\n",
       "        vertical-align: middle;\n",
       "    }\n",
       "\n",
       "    .dataframe tbody tr th {\n",
       "        vertical-align: top;\n",
       "    }\n",
       "\n",
       "    .dataframe thead th {\n",
       "        text-align: right;\n",
       "    }\n",
       "</style>\n",
       "<table border=\"1\" class=\"dataframe\">\n",
       "  <thead>\n",
       "    <tr style=\"text-align: right;\">\n",
       "      <th></th>\n",
       "      <th>입장권 결제금액</th>\n",
       "      <th>음식/음료 결제금액</th>\n",
       "      <th>총 결제금액</th>\n",
       "    </tr>\n",
       "    <tr>\n",
       "      <th>고객</th>\n",
       "      <th></th>\n",
       "      <th></th>\n",
       "      <th></th>\n",
       "    </tr>\n",
       "  </thead>\n",
       "  <tbody>\n",
       "    <tr>\n",
       "      <th>customer010407</th>\n",
       "      <td>7000</td>\n",
       "      <td>0</td>\n",
       "      <td>7000</td>\n",
       "    </tr>\n",
       "    <tr>\n",
       "      <th>customer014003</th>\n",
       "      <td>6000</td>\n",
       "      <td>0</td>\n",
       "      <td>6000</td>\n",
       "    </tr>\n",
       "    <tr>\n",
       "      <th>customer014109</th>\n",
       "      <td>2500</td>\n",
       "      <td>0</td>\n",
       "      <td>2500</td>\n",
       "    </tr>\n",
       "    <tr>\n",
       "      <th>customer016604</th>\n",
       "      <td>5000</td>\n",
       "      <td>0</td>\n",
       "      <td>5000</td>\n",
       "    </tr>\n",
       "    <tr>\n",
       "      <th>customer017109</th>\n",
       "      <td>11500</td>\n",
       "      <td>0</td>\n",
       "      <td>11500</td>\n",
       "    </tr>\n",
       "  </tbody>\n",
       "</table>\n",
       "</div>"
      ],
      "text/plain": [
       "                입장권 결제금액  음식/음료 결제금액  총 결제금액\n",
       "고객                                          \n",
       "customer010407      7000           0    7000\n",
       "customer014003      6000           0    6000\n",
       "customer014109      2500           0    2500\n",
       "customer016604      5000           0    5000\n",
       "customer017109     11500           0   11500"
      ]
     },
     "execution_count": 25,
     "metadata": {},
     "output_type": "execute_result"
    }
   ],
   "source": [
    "# 총 결제 금액 구하기\n",
    "merged_data['총 결제금액'] = merged_data['입장권 결제금액'] + merged_data['음식/음료 결제금액']\n",
    "\n",
    "merged_data.head()"
   ]
  },
  {
   "cell_type": "code",
   "execution_count": 26,
   "id": "4215e620",
   "metadata": {},
   "outputs": [
    {
     "name": "stdout",
     "output_type": "stream",
     "text": [
      "전체 고객 수 : 5365\n"
     ]
    },
    {
     "data": {
      "text/html": [
       "<div>\n",
       "<style scoped>\n",
       "    .dataframe tbody tr th:only-of-type {\n",
       "        vertical-align: middle;\n",
       "    }\n",
       "\n",
       "    .dataframe tbody tr th {\n",
       "        vertical-align: top;\n",
       "    }\n",
       "\n",
       "    .dataframe thead th {\n",
       "        text-align: right;\n",
       "    }\n",
       "</style>\n",
       "<table border=\"1\" class=\"dataframe\">\n",
       "  <thead>\n",
       "    <tr style=\"text-align: right;\">\n",
       "      <th></th>\n",
       "      <th>입장권 결제금액</th>\n",
       "      <th>음식/음료 결제금액</th>\n",
       "      <th>총 결제금액</th>\n",
       "    </tr>\n",
       "    <tr>\n",
       "      <th>고객</th>\n",
       "      <th></th>\n",
       "      <th></th>\n",
       "      <th></th>\n",
       "    </tr>\n",
       "  </thead>\n",
       "  <tbody>\n",
       "    <tr>\n",
       "      <th>customer338849</th>\n",
       "      <td>949500</td>\n",
       "      <td>14000</td>\n",
       "      <td>963500</td>\n",
       "    </tr>\n",
       "    <tr>\n",
       "      <th>customer667032</th>\n",
       "      <td>478500</td>\n",
       "      <td>259000</td>\n",
       "      <td>737500</td>\n",
       "    </tr>\n",
       "    <tr>\n",
       "      <th>customer977070</th>\n",
       "      <td>187800</td>\n",
       "      <td>128800</td>\n",
       "      <td>316600</td>\n",
       "    </tr>\n",
       "    <tr>\n",
       "      <th>customer243082</th>\n",
       "      <td>235000</td>\n",
       "      <td>77500</td>\n",
       "      <td>312500</td>\n",
       "    </tr>\n",
       "    <tr>\n",
       "      <th>customer941866</th>\n",
       "      <td>239500</td>\n",
       "      <td>53500</td>\n",
       "      <td>293000</td>\n",
       "    </tr>\n",
       "    <tr>\n",
       "      <th>...</th>\n",
       "      <td>...</td>\n",
       "      <td>...</td>\n",
       "      <td>...</td>\n",
       "    </tr>\n",
       "    <tr>\n",
       "      <th>customer755732</th>\n",
       "      <td>89500</td>\n",
       "      <td>33000</td>\n",
       "      <td>122500</td>\n",
       "    </tr>\n",
       "    <tr>\n",
       "      <th>customer552974</th>\n",
       "      <td>117500</td>\n",
       "      <td>5000</td>\n",
       "      <td>122500</td>\n",
       "    </tr>\n",
       "    <tr>\n",
       "      <th>customer983308</th>\n",
       "      <td>72400</td>\n",
       "      <td>49900</td>\n",
       "      <td>122300</td>\n",
       "    </tr>\n",
       "    <tr>\n",
       "      <th>customer286302</th>\n",
       "      <td>77500</td>\n",
       "      <td>44500</td>\n",
       "      <td>122000</td>\n",
       "    </tr>\n",
       "    <tr>\n",
       "      <th>customer344936</th>\n",
       "      <td>75000</td>\n",
       "      <td>46500</td>\n",
       "      <td>121500</td>\n",
       "    </tr>\n",
       "  </tbody>\n",
       "</table>\n",
       "<p>100 rows × 3 columns</p>\n",
       "</div>"
      ],
      "text/plain": [
       "                입장권 결제금액  음식/음료 결제금액  총 결제금액\n",
       "고객                                          \n",
       "customer338849    949500       14000  963500\n",
       "customer667032    478500      259000  737500\n",
       "customer977070    187800      128800  316600\n",
       "customer243082    235000       77500  312500\n",
       "customer941866    239500       53500  293000\n",
       "...                  ...         ...     ...\n",
       "customer755732     89500       33000  122500\n",
       "customer552974    117500        5000  122500\n",
       "customer983308     72400       49900  122300\n",
       "customer286302     77500       44500  122000\n",
       "customer344936     75000       46500  121500\n",
       "\n",
       "[100 rows x 3 columns]"
      ]
     },
     "execution_count": 26,
     "metadata": {},
     "output_type": "execute_result"
    }
   ],
   "source": [
    "# 최우수 고객 선정(상위 100명)\n",
    "ranking = merged_data.sort_values('총 결제금액', ascending = False)\n",
    "\n",
    "print(\"전체 고객 수 :\",ranking.shape[0])\n",
    "\n",
    "# 상위 100명 고객 출력\n",
    "ranking = ranking.head(100)\n",
    "\n",
    "ranking"
   ]
  },
  {
   "cell_type": "markdown",
   "id": "0c1cfd21",
   "metadata": {},
   "source": [
    "### 분석결과\n",
    "- 상위 100명 정도의 단골층이라고 할 수 있는 총 지출 데이터를 산정하였다.\n",
    "- 이 자료를 바탕으로 단골 유지를 위한 프로모션을 만들기\n",
    "- 단골 손님에 인맥을 활용한 신규 인원 유치도 고려할 수 있다."
   ]
  },
  {
   "cell_type": "markdown",
   "id": "e2747e0c",
   "metadata": {},
   "source": [
    "### 최종 결론\n",
    "- 위의 4가지 시각화로 분석한 결과 방학 기간에 남아 있는 학생들의 재방문율을 높여서 수익을 창출해야 하기 때문에 방학 프로모션이나 할인 쿠폰을 배포해서 재방율을 유도한다.\n",
    "- 모두 카페는 음료보다는 밥류가 주가되는 카페이므로 세트메뉴로 밥에 음료를 추가시키는 방법으로 추가 지출을 유도한다.\n",
    "- 한국대생이 압도적으로 많은것을 보아 시험기간이나 방학기간에 음식/음료, 입장권 등에 할인을 제공한다. 또한 한국대생을 대상으로 인맥 활용을 위한 친구초대권 같은 쿠폰을 제공한다.\n",
    "- 단골 고객층 차트를 활용해서 음식/음료 할인이나 프로모션 할인을 제공해서 단골층 이탈을 막고, 단골층의 친구초대 이벤트를 통해 혜택 등을 제공하여 단골층의 인맥을 활용해서 신규고객 유치도 고려할 수 있다."
   ]
  },
  {
   "cell_type": "markdown",
   "id": "6654a759",
   "metadata": {},
   "source": [
    "# 회고"
   ]
  },
  {
   "cell_type": "markdown",
   "id": "ab7279fe",
   "metadata": {},
   "source": [
    "### 성과 및 결과\n",
    "모두 카페 데이터를 전처리 및 분석하고 시각화해봄으로써 모두 카페가 처한 상황을 인지하고 해결방안을 제시할 수 있었다.\n",
    "\n",
    "### 배운 점\n",
    "지금 문제 상황이 무엇인지를 인지를 해야 어떤 데이터가 필요한지, 어떻게 데이터를 전처리하고 분석할지에 대해 결정할 수 있음을 배웠다.\n",
    "\n",
    "### 개선할 점 및 아쉬운 점\n",
    "제공해 준 모두 카페 데이터가 학습자가 전처리를 해보라고 일부로 오류를 넣은지에 대해서는 알 수 없으나 전치리가 필요한 데이터인 것으로 보인다. 때문에 여러 전처리 기법을 활용하여 분석결과를 개선할 수 있을 것으로 보인다.\n",
    "\n",
    "### 느낀점\n",
    "페어프로그래밍에서 드라이버 역할을 맡은 것이 처음인데, 파트너가 제시해주는 방법을 통해 코드를 개선하며 좋은 경험을 한 것 같다.\n",
    "\n",
    "### 결론\n",
    "향후에 다룰 데이터들에서 목표를 적절히 설정하여 데이터 분석 방향을 올바르게 설정해야겠다."
   ]
  }
 ],
 "metadata": {
  "kernelspec": {
   "display_name": "Python 3 (ipykernel)",
   "language": "python",
   "name": "python3"
  },
  "language_info": {
   "codemirror_mode": {
    "name": "ipython",
    "version": 3
   },
   "file_extension": ".py",
   "mimetype": "text/x-python",
   "name": "python",
   "nbconvert_exporter": "python",
   "pygments_lexer": "ipython3",
   "version": "3.9.7"
  }
 },
 "nbformat": 4,
 "nbformat_minor": 5
}
